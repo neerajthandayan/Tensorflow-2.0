{
  "nbformat": 4,
  "nbformat_minor": 0,
  "metadata": {
    "colab": {
      "name": "CNN + GridSearch.ipynb",
      "provenance": [],
      "toc_visible": true,
      "authorship_tag": "ABX9TyM9QtKjaOT/nI1OeimoiQjr",
      "include_colab_link": true
    },
    "kernelspec": {
      "name": "python3",
      "display_name": "Python 3"
    },
    "language_info": {
      "name": "python"
    },
    "accelerator": "GPU"
  },
  "cells": [
    {
      "cell_type": "markdown",
      "metadata": {
        "id": "view-in-github",
        "colab_type": "text"
      },
      "source": [
        "<a href=\"https://colab.research.google.com/github/neerajthandayan/Tensorflow-2.0/blob/main/CNN_%2B_GridSearch.ipynb\" target=\"_parent\"><img src=\"https://colab.research.google.com/assets/colab-badge.svg\" alt=\"Open In Colab\"/></a>"
      ]
    },
    {
      "cell_type": "markdown",
      "metadata": {
        "id": "AL_joQ4eR9Z3"
      },
      "source": [
        "## Data Loading and Pre-processing"
      ]
    },
    {
      "cell_type": "code",
      "metadata": {
        "id": "1J3S6_gSglK-"
      },
      "source": [
        "# Impoting Libraries\n",
        "\n",
        "import numpy as np\n",
        "import matplotlib.pyplot as plt\n",
        "import tensorflow as tf\n",
        "from tensorflow.keras.models import Model\n",
        "from tensorflow.keras.layers import Input, Conv2D, MaxPooling2D, Flatten, Dense\n",
        "from tensorflow.keras.datasets import mnist\n",
        "from tensorflow.keras.utils import to_categorical\n",
        "from sklearn.model_selection import GridSearchCV\n",
        "from tensorflow.keras.wrappers.scikit_learn import KerasClassifier"
      ],
      "execution_count": 1,
      "outputs": []
    },
    {
      "cell_type": "code",
      "metadata": {
        "colab": {
          "base_uri": "https://localhost:8080/"
        },
        "id": "kkwgu7NRh0fB",
        "outputId": "b83e2ba8-5a12-464e-efd5-018c8e33595d"
      },
      "source": [
        "#Fetching Data\n",
        "\n",
        "(X_train, y_train), (X_test, y_test) = mnist.load_data()"
      ],
      "execution_count": 2,
      "outputs": [
        {
          "output_type": "stream",
          "text": [
            "Downloading data from https://storage.googleapis.com/tensorflow/tf-keras-datasets/mnist.npz\n",
            "11493376/11490434 [==============================] - 0s 0us/step\n"
          ],
          "name": "stdout"
        }
      ]
    },
    {
      "cell_type": "code",
      "metadata": {
        "id": "kg34oPr8iJny"
      },
      "source": [
        "# Changing the Data Shape\n",
        "\n",
        "X_train, X_test = X_train/255, X_test/255\n",
        "X_train, X_test = np.expand_dims(X_train, -1), np.expand_dims(X_test,-1)\n",
        "y_train, y_test = to_categorical(y_train), to_categorical(y_test)"
      ],
      "execution_count": 3,
      "outputs": []
    },
    {
      "cell_type": "markdown",
      "metadata": {
        "id": "iQQlOL_VSDuE"
      },
      "source": [
        "## GridSearch 1: Neuron, Activation and Optimizer Tuning"
      ]
    },
    {
      "cell_type": "code",
      "metadata": {
        "id": "EgRuoanqlTBO"
      },
      "source": [
        "# Building funtion for model\n",
        "\n",
        "def CNN_model(act_funct='relu',neuron=64,optimizer='rmsprop',loss='categorical_crossentropy'):\n",
        "  #Libraries\n",
        "  import tensorflow as tf\n",
        "  from tensorflow.keras.models import Model\n",
        "  from tensorflow.keras.layers import Input, Conv2D, MaxPooling2D, Flatten, Dense\n",
        "\n",
        "  #Input\n",
        "  i = Input(shape=(X_train[0].shape))\n",
        "\n",
        "  #Convolution layers\n",
        "  o = Conv2D(32, (3,3), activation=act_funct)(i)\n",
        "  o = MaxPooling2D((2,2))(o)\n",
        "  o = Conv2D(64, (3,3), activation=act_funct)(o)\n",
        "  o = MaxPooling2D((2,2))(o)\n",
        "  o = Conv2D(64, (3,3), activation=act_funct)(o)\n",
        "\n",
        "  #Dense Layer\n",
        "  o = Flatten()(o)\n",
        "  o = Dense(neuron, activation=act_funct)(o)\n",
        "  o = Dense(10, activation='softmax')(o)\n",
        "\n",
        "  clf = Model(i,o)\n",
        "\n",
        "  #Compiling Model\n",
        "  clf.compile(optimizer=optimizer,\n",
        "              loss=loss,\n",
        "              metrics=['accuracy'])\n",
        "  \n",
        "  return clf"
      ],
      "execution_count": 4,
      "outputs": []
    },
    {
      "cell_type": "code",
      "metadata": {
        "id": "B5RXeVAOTmCF"
      },
      "source": [
        "# Checcking Default Performance\n",
        "\n",
        "#result = CNN_model().fit(X_train,y_train, validation_data=(X_test,y_test), epochs=10)\n",
        "#print(np.array(result.history['accuracy']).mean(), np.array(result.history['val_accuracy']).mean())\n",
        "#print(np.array(result.history['loss']).mean(), np.array(result.history['val_loss']).mean())"
      ],
      "execution_count": null,
      "outputs": []
    },
    {
      "cell_type": "code",
      "metadata": {
        "id": "w3rAuQGDkCZo",
        "colab": {
          "base_uri": "https://localhost:8080/"
        },
        "outputId": "03c194e2-02be-4c1a-8265-9686ac1c7300"
      },
      "source": [
        "act_funct = ['relu',tf.keras.layers.LeakyReLU()]\n",
        "neuron = [64, 128, 256, 512]\n",
        "optimizer = ['rmsprop','adam','adagrad']\n",
        "loss = ['categorical_crossentropy','binary_crossentropy']\n",
        "\n",
        "param_grid = dict(act_funct=act_funct,neuron=neuron,optimizer=optimizer,loss=loss)\n",
        "Classifier = KerasClassifier(build_fn=CNN_model,epochs=5, batch_size=64,validation_split=0.2)\n",
        "\n",
        "grid = GridSearchCV(estimator=Classifier,param_grid=param_grid, n_jobs=-1)\n",
        "grid_result = grid.fit(X_train,y_train)"
      ],
      "execution_count": 5,
      "outputs": [
        {
          "output_type": "stream",
          "text": [
            "/usr/local/lib/python3.7/dist-packages/joblib/externals/loky/process_executor.py:691: UserWarning: A worker stopped while some jobs were given to the executor. This can be caused by a too short worker timeout or by a memory leak.\n",
            "  \"timeout or by a memory leak.\", UserWarning\n"
          ],
          "name": "stderr"
        },
        {
          "output_type": "stream",
          "text": [
            "Epoch 1/5\n",
            "750/750 [==============================] - 7s 5ms/step - loss: 0.1179 - accuracy: 0.7916 - val_loss: 0.0154 - val_accuracy: 0.9794\n",
            "Epoch 2/5\n",
            "750/750 [==============================] - 3s 4ms/step - loss: 0.0128 - accuracy: 0.9824 - val_loss: 0.0104 - val_accuracy: 0.9864\n",
            "Epoch 3/5\n",
            "750/750 [==============================] - 3s 4ms/step - loss: 0.0075 - accuracy: 0.9902 - val_loss: 0.0086 - val_accuracy: 0.9872\n",
            "Epoch 4/5\n",
            "750/750 [==============================] - 3s 4ms/step - loss: 0.0056 - accuracy: 0.9917 - val_loss: 0.0072 - val_accuracy: 0.9895\n",
            "Epoch 5/5\n",
            "750/750 [==============================] - 3s 4ms/step - loss: 0.0039 - accuracy: 0.9946 - val_loss: 0.0074 - val_accuracy: 0.9902\n"
          ],
          "name": "stdout"
        }
      ]
    },
    {
      "cell_type": "code",
      "metadata": {
        "id": "0Ini6_OutbsF",
        "colab": {
          "base_uri": "https://localhost:8080/"
        },
        "outputId": "ba5c0945-9352-43d4-d1d1-3ee165f27b1b"
      },
      "source": [
        "#summarize results\n",
        "print(\"Best: %f using %s\" % (grid_result.best_score_, grid_result.best_params_))\n",
        "means = grid_result.cv_results_['mean_test_score']\n",
        "stds = grid_result.cv_results_['std_test_score']\n",
        "params = grid_result.cv_results_['params']\n",
        "for mean, stdev, param in zip(means, stds, params):\n",
        "    print(\"%f (%f) with: %r\" % (mean, stdev, param))"
      ],
      "execution_count": 6,
      "outputs": [
        {
          "output_type": "stream",
          "text": [
            "Best: 0.989100 using {'act_funct': 'relu', 'loss': 'binary_crossentropy', 'neuron': 64, 'optimizer': 'rmsprop'}\n",
            "0.988167 (0.001112) with: {'act_funct': 'relu', 'loss': 'categorical_crossentropy', 'neuron': 64, 'optimizer': 'rmsprop'}\n",
            "0.986833 (0.001265) with: {'act_funct': 'relu', 'loss': 'categorical_crossentropy', 'neuron': 64, 'optimizer': 'adam'}\n",
            "0.890933 (0.005430) with: {'act_funct': 'relu', 'loss': 'categorical_crossentropy', 'neuron': 64, 'optimizer': 'adagrad'}\n",
            "0.987500 (0.002109) with: {'act_funct': 'relu', 'loss': 'categorical_crossentropy', 'neuron': 128, 'optimizer': 'rmsprop'}\n",
            "0.987000 (0.001783) with: {'act_funct': 'relu', 'loss': 'categorical_crossentropy', 'neuron': 128, 'optimizer': 'adam'}\n",
            "0.891533 (0.004321) with: {'act_funct': 'relu', 'loss': 'categorical_crossentropy', 'neuron': 128, 'optimizer': 'adagrad'}\n",
            "0.988900 (0.001695) with: {'act_funct': 'relu', 'loss': 'categorical_crossentropy', 'neuron': 256, 'optimizer': 'rmsprop'}\n",
            "0.986033 (0.002963) with: {'act_funct': 'relu', 'loss': 'categorical_crossentropy', 'neuron': 256, 'optimizer': 'adam'}\n",
            "0.895433 (0.009377) with: {'act_funct': 'relu', 'loss': 'categorical_crossentropy', 'neuron': 256, 'optimizer': 'adagrad'}\n",
            "0.987967 (0.002524) with: {'act_funct': 'relu', 'loss': 'categorical_crossentropy', 'neuron': 512, 'optimizer': 'rmsprop'}\n",
            "0.986200 (0.001159) with: {'act_funct': 'relu', 'loss': 'categorical_crossentropy', 'neuron': 512, 'optimizer': 'adam'}\n",
            "0.898150 (0.007302) with: {'act_funct': 'relu', 'loss': 'categorical_crossentropy', 'neuron': 512, 'optimizer': 'adagrad'}\n",
            "0.989100 (0.000720) with: {'act_funct': 'relu', 'loss': 'binary_crossentropy', 'neuron': 64, 'optimizer': 'rmsprop'}\n",
            "0.986650 (0.001607) with: {'act_funct': 'relu', 'loss': 'binary_crossentropy', 'neuron': 64, 'optimizer': 'adam'}\n",
            "0.525033 (0.026655) with: {'act_funct': 'relu', 'loss': 'binary_crossentropy', 'neuron': 64, 'optimizer': 'adagrad'}\n",
            "0.988883 (0.001132) with: {'act_funct': 'relu', 'loss': 'binary_crossentropy', 'neuron': 128, 'optimizer': 'rmsprop'}\n",
            "0.988233 (0.001102) with: {'act_funct': 'relu', 'loss': 'binary_crossentropy', 'neuron': 128, 'optimizer': 'adam'}\n",
            "0.548183 (0.014269) with: {'act_funct': 'relu', 'loss': 'binary_crossentropy', 'neuron': 128, 'optimizer': 'adagrad'}\n",
            "0.989067 (0.001401) with: {'act_funct': 'relu', 'loss': 'binary_crossentropy', 'neuron': 256, 'optimizer': 'rmsprop'}\n",
            "0.988850 (0.000897) with: {'act_funct': 'relu', 'loss': 'binary_crossentropy', 'neuron': 256, 'optimizer': 'adam'}\n",
            "0.562250 (0.057329) with: {'act_funct': 'relu', 'loss': 'binary_crossentropy', 'neuron': 256, 'optimizer': 'adagrad'}\n",
            "0.989033 (0.002032) with: {'act_funct': 'relu', 'loss': 'binary_crossentropy', 'neuron': 512, 'optimizer': 'rmsprop'}\n",
            "0.986533 (0.002986) with: {'act_funct': 'relu', 'loss': 'binary_crossentropy', 'neuron': 512, 'optimizer': 'adam'}\n",
            "0.617717 (0.042608) with: {'act_funct': 'relu', 'loss': 'binary_crossentropy', 'neuron': 512, 'optimizer': 'adagrad'}\n",
            "0.987550 (0.001338) with: {'act_funct': <tensorflow.python.keras.layers.advanced_activations.LeakyReLU object at 0x7f26855905d0>, 'loss': 'categorical_crossentropy', 'neuron': 64, 'optimizer': 'rmsprop'}\n",
            "0.985617 (0.001805) with: {'act_funct': <tensorflow.python.keras.layers.advanced_activations.LeakyReLU object at 0x7f26855905d0>, 'loss': 'categorical_crossentropy', 'neuron': 64, 'optimizer': 'adam'}\n",
            "0.891067 (0.005263) with: {'act_funct': <tensorflow.python.keras.layers.advanced_activations.LeakyReLU object at 0x7f26855905d0>, 'loss': 'categorical_crossentropy', 'neuron': 64, 'optimizer': 'adagrad'}\n",
            "0.985900 (0.002293) with: {'act_funct': <tensorflow.python.keras.layers.advanced_activations.LeakyReLU object at 0x7f26855905d0>, 'loss': 'categorical_crossentropy', 'neuron': 128, 'optimizer': 'rmsprop'}\n",
            "0.985217 (0.001140) with: {'act_funct': <tensorflow.python.keras.layers.advanced_activations.LeakyReLU object at 0x7f26855905d0>, 'loss': 'categorical_crossentropy', 'neuron': 128, 'optimizer': 'adam'}\n",
            "0.896567 (0.005337) with: {'act_funct': <tensorflow.python.keras.layers.advanced_activations.LeakyReLU object at 0x7f26855905d0>, 'loss': 'categorical_crossentropy', 'neuron': 128, 'optimizer': 'adagrad'}\n",
            "0.987133 (0.001519) with: {'act_funct': <tensorflow.python.keras.layers.advanced_activations.LeakyReLU object at 0x7f26855905d0>, 'loss': 'categorical_crossentropy', 'neuron': 256, 'optimizer': 'rmsprop'}\n",
            "0.986033 (0.001401) with: {'act_funct': <tensorflow.python.keras.layers.advanced_activations.LeakyReLU object at 0x7f26855905d0>, 'loss': 'categorical_crossentropy', 'neuron': 256, 'optimizer': 'adam'}\n",
            "0.900000 (0.005534) with: {'act_funct': <tensorflow.python.keras.layers.advanced_activations.LeakyReLU object at 0x7f26855905d0>, 'loss': 'categorical_crossentropy', 'neuron': 256, 'optimizer': 'adagrad'}\n",
            "0.987000 (0.001151) with: {'act_funct': <tensorflow.python.keras.layers.advanced_activations.LeakyReLU object at 0x7f26855905d0>, 'loss': 'categorical_crossentropy', 'neuron': 512, 'optimizer': 'rmsprop'}\n",
            "0.986000 (0.001095) with: {'act_funct': <tensorflow.python.keras.layers.advanced_activations.LeakyReLU object at 0x7f26855905d0>, 'loss': 'categorical_crossentropy', 'neuron': 512, 'optimizer': 'adam'}\n",
            "0.898317 (0.007575) with: {'act_funct': <tensorflow.python.keras.layers.advanced_activations.LeakyReLU object at 0x7f26855905d0>, 'loss': 'categorical_crossentropy', 'neuron': 512, 'optimizer': 'adagrad'}\n",
            "0.988183 (0.000512) with: {'act_funct': <tensorflow.python.keras.layers.advanced_activations.LeakyReLU object at 0x7f26855905d0>, 'loss': 'binary_crossentropy', 'neuron': 64, 'optimizer': 'rmsprop'}\n",
            "0.987467 (0.001285) with: {'act_funct': <tensorflow.python.keras.layers.advanced_activations.LeakyReLU object at 0x7f26855905d0>, 'loss': 'binary_crossentropy', 'neuron': 64, 'optimizer': 'adam'}\n",
            "0.596950 (0.019208) with: {'act_funct': <tensorflow.python.keras.layers.advanced_activations.LeakyReLU object at 0x7f26855905d0>, 'loss': 'binary_crossentropy', 'neuron': 64, 'optimizer': 'adagrad'}\n",
            "0.987867 (0.001039) with: {'act_funct': <tensorflow.python.keras.layers.advanced_activations.LeakyReLU object at 0x7f26855905d0>, 'loss': 'binary_crossentropy', 'neuron': 128, 'optimizer': 'rmsprop'}\n",
            "0.987550 (0.001116) with: {'act_funct': <tensorflow.python.keras.layers.advanced_activations.LeakyReLU object at 0x7f26855905d0>, 'loss': 'binary_crossentropy', 'neuron': 128, 'optimizer': 'adam'}\n",
            "0.573717 (0.036406) with: {'act_funct': <tensorflow.python.keras.layers.advanced_activations.LeakyReLU object at 0x7f26855905d0>, 'loss': 'binary_crossentropy', 'neuron': 128, 'optimizer': 'adagrad'}\n",
            "0.988517 (0.002565) with: {'act_funct': <tensorflow.python.keras.layers.advanced_activations.LeakyReLU object at 0x7f26855905d0>, 'loss': 'binary_crossentropy', 'neuron': 256, 'optimizer': 'rmsprop'}\n",
            "0.988300 (0.002221) with: {'act_funct': <tensorflow.python.keras.layers.advanced_activations.LeakyReLU object at 0x7f26855905d0>, 'loss': 'binary_crossentropy', 'neuron': 256, 'optimizer': 'adam'}\n",
            "0.578617 (0.038966) with: {'act_funct': <tensorflow.python.keras.layers.advanced_activations.LeakyReLU object at 0x7f26855905d0>, 'loss': 'binary_crossentropy', 'neuron': 256, 'optimizer': 'adagrad'}\n",
            "0.988267 (0.001084) with: {'act_funct': <tensorflow.python.keras.layers.advanced_activations.LeakyReLU object at 0x7f26855905d0>, 'loss': 'binary_crossentropy', 'neuron': 512, 'optimizer': 'rmsprop'}\n",
            "0.988500 (0.001286) with: {'act_funct': <tensorflow.python.keras.layers.advanced_activations.LeakyReLU object at 0x7f26855905d0>, 'loss': 'binary_crossentropy', 'neuron': 512, 'optimizer': 'adam'}\n",
            "0.613050 (0.029766) with: {'act_funct': <tensorflow.python.keras.layers.advanced_activations.LeakyReLU object at 0x7f26855905d0>, 'loss': 'binary_crossentropy', 'neuron': 512, 'optimizer': 'adagrad'}\n"
          ],
          "name": "stdout"
        }
      ]
    },
    {
      "cell_type": "markdown",
      "metadata": {
        "id": "H-eplBCfTPmQ"
      },
      "source": [
        "## GridSearch 2: Momentum and Learning Rate"
      ]
    },
    {
      "cell_type": "code",
      "metadata": {
        "id": "b3fzIMG5TYvB"
      },
      "source": [
        "# Building funtion for model (Lerning Rate & Momentum)\n",
        "\n",
        "def CNN_model2(learning_rate=0.001,momentum=0.0):\n",
        "  #Libraries\n",
        "  import tensorflow as tf\n",
        "  from tensorflow.keras.models import Model\n",
        "  from tensorflow.keras.layers import Input, Conv2D, MaxPooling2D, Flatten, Dense\n",
        "\n",
        "  #Input\n",
        "  i = Input(shape=(X_train[0].shape))\n",
        "\n",
        "  #Convolution layers\n",
        "  o = Conv2D(32, (3,3), activation='relu')(i)\n",
        "  o = MaxPooling2D((2,2))(o)\n",
        "  o = Conv2D(64, (3,3), activation='relu')(o)\n",
        "  o = MaxPooling2D((2,2))(o)\n",
        "  o = Conv2D(64, (3,3), activation='relu')(o)\n",
        "\n",
        "  #Dense Layer\n",
        "  o = Flatten()(o)\n",
        "  o = Dense(512, activation='relu')(o)\n",
        "  o = Dense(10, activation='softmax')(o)\n",
        "\n",
        "  clf_2 = Model(i,o)\n",
        "\n",
        "  #Compiling Model\n",
        "  clf_2.compile(optimizer=tf.keras.optimizers.RMSprop(learning_rate,momentum=momentum),\n",
        "                loss='binary_crossentropy',\n",
        "                metrics=['accuracy'])\n",
        "  \n",
        "  return clf_2"
      ],
      "execution_count": 7,
      "outputs": []
    },
    {
      "cell_type": "code",
      "metadata": {
        "id": "N3OVCo0XUJoo",
        "colab": {
          "base_uri": "https://localhost:8080/"
        },
        "outputId": "f0cf2c36-d38c-40ae-b465-06f08b1e2b15"
      },
      "source": [
        "learning_rate = [0.001, 0.01, 0.1, 0.2, 0.3]\n",
        "momentum = [0.0, 0.2, 0.4, 0.6, 0.8, 0.9]\n",
        "\n",
        "param_grid_2 = dict(learning_rate=learning_rate, momentum=momentum)\n",
        "Classifier_2 = KerasClassifier(build_fn=CNN_model2,epochs=5, batch_size=64,validation_split=0.2)\n",
        "\n",
        "grid_2 = GridSearchCV(estimator=Classifier_2, param_grid=param_grid_2, n_jobs=-1)\n",
        "grid_result_2 = grid_2.fit(X_train, y_train)"
      ],
      "execution_count": 9,
      "outputs": [
        {
          "output_type": "stream",
          "text": [
            "/usr/local/lib/python3.7/dist-packages/joblib/externals/loky/process_executor.py:691: UserWarning: A worker stopped while some jobs were given to the executor. This can be caused by a too short worker timeout or by a memory leak.\n",
            "  \"timeout or by a memory leak.\", UserWarning\n"
          ],
          "name": "stderr"
        },
        {
          "output_type": "stream",
          "text": [
            "Epoch 1/5\n",
            "750/750 [==============================] - 4s 4ms/step - loss: 0.0960 - accuracy: 0.8286 - val_loss: 0.0121 - val_accuracy: 0.9827\n",
            "Epoch 2/5\n",
            "750/750 [==============================] - 3s 4ms/step - loss: 0.0098 - accuracy: 0.9848 - val_loss: 0.0133 - val_accuracy: 0.9818\n",
            "Epoch 3/5\n",
            "750/750 [==============================] - 3s 4ms/step - loss: 0.0061 - accuracy: 0.9915 - val_loss: 0.0099 - val_accuracy: 0.9867\n",
            "Epoch 4/5\n",
            "750/750 [==============================] - 3s 4ms/step - loss: 0.0043 - accuracy: 0.9937 - val_loss: 0.0080 - val_accuracy: 0.9898\n",
            "Epoch 5/5\n",
            "750/750 [==============================] - 3s 4ms/step - loss: 0.0032 - accuracy: 0.9951 - val_loss: 0.0086 - val_accuracy: 0.9891\n"
          ],
          "name": "stdout"
        }
      ]
    },
    {
      "cell_type": "code",
      "metadata": {
        "id": "yMTcUeeX-aJW",
        "colab": {
          "base_uri": "https://localhost:8080/"
        },
        "outputId": "55545dfe-a7c2-407e-bed3-03614c9d090a"
      },
      "source": [
        "#summarize results\n",
        "print(\"Best: %f using %s\" % (grid_result_2.best_score_, grid_result_2.best_params_))\n",
        "means = grid_result_2.cv_results_['mean_test_score']\n",
        "stds = grid_result_2.cv_results_['std_test_score']\n",
        "params = grid_result_2.cv_results_['params']\n",
        "for mean, stdev, param in zip(means, stds, params):\n",
        "    print(\"%f (%f) with: %r\" % (mean, stdev, param))"
      ],
      "execution_count": 10,
      "outputs": [
        {
          "output_type": "stream",
          "text": [
            "Best: 0.988850 using {'learning_rate': 0.001, 'momentum': 0.0}\n",
            "0.988850 (0.001977) with: {'learning_rate': 0.001, 'momentum': 0.0}\n",
            "0.987750 (0.002192) with: {'learning_rate': 0.001, 'momentum': 0.2}\n",
            "0.988817 (0.001257) with: {'learning_rate': 0.001, 'momentum': 0.4}\n",
            "0.987850 (0.001623) with: {'learning_rate': 0.001, 'momentum': 0.6}\n",
            "0.986350 (0.001896) with: {'learning_rate': 0.001, 'momentum': 0.8}\n",
            "0.984483 (0.002142) with: {'learning_rate': 0.001, 'momentum': 0.9}\n",
            "0.976633 (0.004460) with: {'learning_rate': 0.01, 'momentum': 0.0}\n",
            "0.973017 (0.009226) with: {'learning_rate': 0.01, 'momentum': 0.2}\n",
            "0.796183 (0.341607) with: {'learning_rate': 0.01, 'momentum': 0.4}\n",
            "0.448617 (0.417392) with: {'learning_rate': 0.01, 'momentum': 0.6}\n",
            "0.753367 (0.319250) with: {'learning_rate': 0.01, 'momentum': 0.8}\n",
            "0.110533 (0.004689) with: {'learning_rate': 0.01, 'momentum': 0.9}\n",
            "0.104683 (0.007586) with: {'learning_rate': 0.1, 'momentum': 0.0}\n",
            "0.102683 (0.004996) with: {'learning_rate': 0.1, 'momentum': 0.2}\n",
            "0.104067 (0.005794) with: {'learning_rate': 0.1, 'momentum': 0.4}\n",
            "0.112783 (0.002561) with: {'learning_rate': 0.1, 'momentum': 0.6}\n",
            "0.101850 (0.007081) with: {'learning_rate': 0.1, 'momentum': 0.8}\n",
            "0.097950 (0.003800) with: {'learning_rate': 0.1, 'momentum': 0.9}\n",
            "0.101667 (0.005586) with: {'learning_rate': 0.2, 'momentum': 0.0}\n",
            "0.106067 (0.006647) with: {'learning_rate': 0.2, 'momentum': 0.2}\n",
            "0.104400 (0.008922) with: {'learning_rate': 0.2, 'momentum': 0.4}\n",
            "0.106683 (0.005376) with: {'learning_rate': 0.2, 'momentum': 0.6}\n",
            "0.102733 (0.006214) with: {'learning_rate': 0.2, 'momentum': 0.8}\n",
            "0.103667 (0.008894) with: {'learning_rate': 0.2, 'momentum': 0.9}\n",
            "0.101000 (0.007341) with: {'learning_rate': 0.3, 'momentum': 0.0}\n",
            "0.097083 (0.007224) with: {'learning_rate': 0.3, 'momentum': 0.2}\n",
            "0.099217 (0.002562) with: {'learning_rate': 0.3, 'momentum': 0.4}\n",
            "0.099033 (0.001251) with: {'learning_rate': 0.3, 'momentum': 0.6}\n",
            "0.101767 (0.006978) with: {'learning_rate': 0.3, 'momentum': 0.8}\n",
            "0.100167 (0.001326) with: {'learning_rate': 0.3, 'momentum': 0.9}\n"
          ],
          "name": "stdout"
        }
      ]
    }
  ]
}