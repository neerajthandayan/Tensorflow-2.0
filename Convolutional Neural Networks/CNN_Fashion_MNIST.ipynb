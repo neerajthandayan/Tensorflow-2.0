{
  "nbformat": 4,
  "nbformat_minor": 0,
  "metadata": {
    "colab": {
      "name": "CNN_Fashion_MNIST.ipynb",
      "provenance": [],
      "authorship_tag": "ABX9TyNrp82Vi3m1lGezCxQnC4FQ",
      "include_colab_link": true
    },
    "kernelspec": {
      "name": "python3",
      "display_name": "Python 3"
    },
    "language_info": {
      "name": "python"
    },
    "accelerator": "TPU"
  },
  "cells": [
    {
      "cell_type": "markdown",
      "metadata": {
        "id": "view-in-github",
        "colab_type": "text"
      },
      "source": [
        "<a href=\"https://colab.research.google.com/github/neerajthandayan/Tensorflow-2.0/blob/main/Convolutional%20Neural%20Networks/CNN_Fashion_MNIST.ipynb\" target=\"_parent\"><img src=\"https://colab.research.google.com/assets/colab-badge.svg\" alt=\"Open In Colab\"/></a>"
      ]
    },
    {
      "cell_type": "code",
      "metadata": {
        "id": "7yWADXeOA1j6"
      },
      "source": [
        "# Importing Libraries\n",
        "\n",
        "import numpy as np\n",
        "import matplotlib.pyplot as plt\n",
        "import tensorflow as tf\n",
        "from tensorflow.keras.models import Model\n",
        "from tensorflow.keras.layers import Input, Conv2D, Flatten, Dense, Dropout"
      ],
      "execution_count": 1,
      "outputs": []
    },
    {
      "cell_type": "code",
      "metadata": {
        "id": "k4k3aSQjDlU9",
        "outputId": "263858d1-259e-4942-9bda-9f6c7858ec3b",
        "colab": {
          "base_uri": "https://localhost:8080/"
        }
      },
      "source": [
        "# Fetching data\n",
        "data = tf.keras.datasets.fashion_mnist\n",
        "\n",
        "(C_train,d_train), (C_test,d_test) = data.load_data()\n",
        "C_train, C_test = C_train/255, C_test/255"
      ],
      "execution_count": 2,
      "outputs": [
        {
          "output_type": "stream",
          "text": [
            "Downloading data from https://storage.googleapis.com/tensorflow/tf-keras-datasets/train-labels-idx1-ubyte.gz\n",
            "32768/29515 [=================================] - 0s 0us/step\n",
            "Downloading data from https://storage.googleapis.com/tensorflow/tf-keras-datasets/train-images-idx3-ubyte.gz\n",
            "26427392/26421880 [==============================] - 0s 0us/step\n",
            "Downloading data from https://storage.googleapis.com/tensorflow/tf-keras-datasets/t10k-labels-idx1-ubyte.gz\n",
            "8192/5148 [===============================================] - 0s 0us/step\n",
            "Downloading data from https://storage.googleapis.com/tensorflow/tf-keras-datasets/t10k-images-idx3-ubyte.gz\n",
            "4423680/4422102 [==============================] - 0s 0us/step\n"
          ],
          "name": "stdout"
        }
      ]
    },
    {
      "cell_type": "code",
      "metadata": {
        "id": "epOIRAkFEr_4",
        "outputId": "619ba128-bafa-4932-ffbc-fdad9c6faad5",
        "colab": {
          "base_uri": "https://localhost:8080/"
        }
      },
      "source": [
        "# Checking data dimensions\n",
        "\n",
        "print(C_train.shape)"
      ],
      "execution_count": 3,
      "outputs": [
        {
          "output_type": "stream",
          "text": [
            "(60000, 28, 28)\n"
          ],
          "name": "stdout"
        }
      ]
    },
    {
      "cell_type": "code",
      "metadata": {
        "id": "iB5F7s_6E6tI"
      },
      "source": [
        "# Expandind data dimensions for convolution\n",
        "\n",
        "C_train = np.expand_dims(C_train, -1)\n",
        "C_test = np.expand_dims(C_test, -1)"
      ],
      "execution_count": 4,
      "outputs": []
    },
    {
      "cell_type": "code",
      "metadata": {
        "id": "0gwWf9UIFX55",
        "outputId": "dfaebc88-c290-41f0-dd6b-de72d54f0ff0",
        "colab": {
          "base_uri": "https://localhost:8080/"
        }
      },
      "source": [
        "# Altered Shape\n",
        "\n",
        "C_train.shape"
      ],
      "execution_count": 5,
      "outputs": [
        {
          "output_type": "execute_result",
          "data": {
            "text/plain": [
              "(60000, 28, 28, 1)"
            ]
          },
          "metadata": {
            "tags": []
          },
          "execution_count": 5
        }
      ]
    },
    {
      "cell_type": "code",
      "metadata": {
        "id": "Um9o_f6SHadq",
        "outputId": "863b5017-9f47-4a54-dfe8-3247f115307e",
        "colab": {
          "base_uri": "https://localhost:8080/"
        }
      },
      "source": [
        "# Fetching the number of classes\n",
        "\n",
        "K = len(set(d_train))\n",
        "print(f\"Number of Classes: {K}\")"
      ],
      "execution_count": 12,
      "outputs": [
        {
          "output_type": "stream",
          "text": [
            "Number of Classes: 10\n"
          ],
          "name": "stdout"
        }
      ]
    },
    {
      "cell_type": "code",
      "metadata": {
        "id": "H6WnsjrasF0X",
        "outputId": "ac55fec4-51cc-440d-bf48-53720eac029e",
        "colab": {
          "base_uri": "https://localhost:8080/"
        }
      },
      "source": [
        "C_train[0].shape"
      ],
      "execution_count": 20,
      "outputs": [
        {
          "output_type": "execute_result",
          "data": {
            "text/plain": [
              "(28, 28, 1)"
            ]
          },
          "metadata": {
            "tags": []
          },
          "execution_count": 20
        }
      ]
    },
    {
      "cell_type": "code",
      "metadata": {
        "id": "N96Gr5oyrlYC"
      },
      "source": [
        "# Construction model\n",
        "# Standardised coding style (using functional API)\n",
        "\n",
        "i = Input(shape=C_train[0].shape)\n",
        "x = Conv2D(32, (3,3), strides=2,activation='relu')(i)\n",
        "x = Conv2D(64, (3,3), strides=2,activation='relu')(x)\n",
        "x = Conv2D(128, (3,3), strides=2,activation='relu')(x)\n",
        "x = Flatten()(x)\n",
        "x = Dropout(0.1)(x)\n",
        "x = Dense(512, activation='relu')(x)\n",
        "x = Dropout(0.1)(x)\n",
        "x = Dense(K, activation='softmax')(x)\n",
        "\n",
        "model = Model(i, x)"
      ],
      "execution_count": 23,
      "outputs": []
    },
    {
      "cell_type": "code",
      "metadata": {
        "id": "9fAiIZjCu9XL",
        "outputId": "2ac1562d-7c56-4f38-9978-368d9c21eef1",
        "colab": {
          "base_uri": "https://localhost:8080/"
        }
      },
      "source": [
        "# Compiling model\n",
        "\n",
        "model.compile(optimizer='adam',\n",
        "              loss='sparse_categorical_crossentropy',\n",
        "              metrics=['accuracy'])\n",
        "\n",
        "model.fit(C_train, d_train, validation_data=(C_test,d_test), epochs=25)"
      ],
      "execution_count": null,
      "outputs": [
        {
          "output_type": "stream",
          "text": [
            "Epoch 1/25\n",
            "1875/1875 [==============================] - 32s 17ms/step - loss: 0.6746 - accuracy: 0.7537 - val_loss: 0.4002 - val_accuracy: 0.8503\n",
            "Epoch 2/25\n",
            "1875/1875 [==============================] - 30s 16ms/step - loss: 0.3707 - accuracy: 0.8619 - val_loss: 0.3519 - val_accuracy: 0.8730\n",
            "Epoch 3/25\n",
            "1875/1875 [==============================] - 30s 16ms/step - loss: 0.3068 - accuracy: 0.8850 - val_loss: 0.3163 - val_accuracy: 0.8851\n",
            "Epoch 4/25\n",
            "1875/1875 [==============================] - 30s 16ms/step - loss: 0.2653 - accuracy: 0.9002 - val_loss: 0.3150 - val_accuracy: 0.8875\n",
            "Epoch 5/25\n",
            "1875/1875 [==============================] - 32s 17ms/step - loss: 0.2313 - accuracy: 0.9105 - val_loss: 0.3041 - val_accuracy: 0.8909\n",
            "Epoch 6/25\n",
            "1875/1875 [==============================] - 31s 16ms/step - loss: 0.2104 - accuracy: 0.9200 - val_loss: 0.3092 - val_accuracy: 0.8912\n",
            "Epoch 7/25\n",
            "1875/1875 [==============================] - 32s 17ms/step - loss: 0.1881 - accuracy: 0.9281 - val_loss: 0.2917 - val_accuracy: 0.9019\n",
            "Epoch 8/25\n",
            " 717/1875 [==========>...................] - ETA: 19s - loss: 0.1612 - accuracy: 0.9386"
          ],
          "name": "stdout"
        }
      ]
    }
  ]
}