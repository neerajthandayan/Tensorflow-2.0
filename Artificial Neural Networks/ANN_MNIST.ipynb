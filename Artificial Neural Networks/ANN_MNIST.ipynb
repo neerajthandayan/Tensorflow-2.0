{
  "nbformat": 4,
  "nbformat_minor": 0,
  "metadata": {
    "colab": {
      "name": "ANN-MNIST.ipynb",
      "provenance": [],
      "authorship_tag": "ABX9TyN2JXrNuM9yX/7lXd7hSrT6",
      "include_colab_link": true
    },
    "kernelspec": {
      "name": "python3",
      "display_name": "Python 3"
    },
    "language_info": {
      "name": "python"
    },
    "accelerator": "TPU"
  },
  "cells": [
    {
      "cell_type": "markdown",
      "metadata": {
        "id": "view-in-github",
        "colab_type": "text"
      },
      "source": [
        "<a href=\"https://colab.research.google.com/github/neerajthandayan/Tensorflow-2.0/blob/main/ANN_MNIST.ipynb\" target=\"_parent\"><img src=\"https://colab.research.google.com/assets/colab-badge.svg\" alt=\"Open In Colab\"/></a>"
      ]
    },
    {
      "cell_type": "code",
      "metadata": {
        "id": "EEawRQbZJzRS"
      },
      "source": [
        "# Importing libraries \n",
        "\n",
        "import pandas as pd\n",
        "import numpy as np\n",
        "import matplotlib.pyplot as plt\n",
        "import tensorflow as tf\n",
        "from sklearn.metrics import confusion_matrix"
      ],
      "execution_count": 1,
      "outputs": []
    },
    {
      "cell_type": "code",
      "metadata": {
        "id": "DHB4VsppKdbp"
      },
      "source": [
        "# Importing dataset\n",
        "\n",
        "data = tf.keras.datasets.mnist\n",
        "(M_train,n_train), (M_test,n_test) = data.load_data()\n",
        "M_train, M_test = M_train/255, M_test/255"
      ],
      "execution_count": 2,
      "outputs": []
    },
    {
      "cell_type": "code",
      "metadata": {
        "colab": {
          "base_uri": "https://localhost:8080/"
        },
        "id": "vHnACRsMLHLj",
        "outputId": "bbf1e2bb-71e6-4005-9fc8-56081a626a2d"
      },
      "source": [
        "# Checking Data Shape\n",
        "\n",
        "M_train.shape"
      ],
      "execution_count": 3,
      "outputs": [
        {
          "output_type": "execute_result",
          "data": {
            "text/plain": [
              "(60000, 28, 28)"
            ]
          },
          "metadata": {
            "tags": []
          },
          "execution_count": 3
        }
      ]
    },
    {
      "cell_type": "code",
      "metadata": {
        "id": "GSaKk_4qLUVk"
      },
      "source": [
        "# Constructing Model\n",
        "\n",
        "clf = tf.keras.models.Sequential()\n",
        "clf.add(tf.keras.layers.Flatten(input_shape=(28,28)))\n",
        "clf.add(tf.keras.layers.Dense(256, activation='relu'))\n",
        "clf.add(tf.keras.layers.Dropout(0.2))\n",
        "clf.add(tf.keras.layers.Dense(10, activation='softmax'))"
      ],
      "execution_count": 4,
      "outputs": []
    },
    {
      "cell_type": "code",
      "metadata": {
        "id": "JtL8C6y6MT6G"
      },
      "source": [
        "# Compiling Data\n",
        "\n",
        "clf.compile(optimizer='adam',\n",
        "            loss='sparse_categorical_crossentropy',\n",
        "            metrics=['accuracy'])"
      ],
      "execution_count": 5,
      "outputs": []
    },
    {
      "cell_type": "code",
      "metadata": {
        "colab": {
          "base_uri": "https://localhost:8080/"
        },
        "id": "3oHugGIEMozF",
        "outputId": "137889cb-43fa-4dd4-f490-e8d3d95add85"
      },
      "source": [
        "# Fitting Data\n",
        "\n",
        "result = clf.fit(M_train,n_train, validation_data=(M_test,n_test), epochs=10)"
      ],
      "execution_count": 6,
      "outputs": [
        {
          "output_type": "stream",
          "text": [
            "Epoch 1/10\n",
            "1875/1875 [==============================] - 7s 4ms/step - loss: 0.4180 - accuracy: 0.8760 - val_loss: 0.1105 - val_accuracy: 0.9651\n",
            "Epoch 2/10\n",
            "1875/1875 [==============================] - 6s 3ms/step - loss: 0.1174 - accuracy: 0.9636 - val_loss: 0.0814 - val_accuracy: 0.9743\n",
            "Epoch 3/10\n",
            "1875/1875 [==============================] - 6s 3ms/step - loss: 0.0829 - accuracy: 0.9744 - val_loss: 0.0816 - val_accuracy: 0.9767\n",
            "Epoch 4/10\n",
            "1875/1875 [==============================] - 6s 3ms/step - loss: 0.0624 - accuracy: 0.9812 - val_loss: 0.0729 - val_accuracy: 0.9770\n",
            "Epoch 5/10\n",
            "1875/1875 [==============================] - 6s 3ms/step - loss: 0.0495 - accuracy: 0.9842 - val_loss: 0.0634 - val_accuracy: 0.9814\n",
            "Epoch 6/10\n",
            "1875/1875 [==============================] - 6s 3ms/step - loss: 0.0411 - accuracy: 0.9856 - val_loss: 0.0644 - val_accuracy: 0.9789\n",
            "Epoch 7/10\n",
            "1875/1875 [==============================] - 6s 3ms/step - loss: 0.0351 - accuracy: 0.9883 - val_loss: 0.0636 - val_accuracy: 0.9811\n",
            "Epoch 8/10\n",
            "1875/1875 [==============================] - 6s 3ms/step - loss: 0.0292 - accuracy: 0.9905 - val_loss: 0.0641 - val_accuracy: 0.9817\n",
            "Epoch 9/10\n",
            "1875/1875 [==============================] - 6s 3ms/step - loss: 0.0267 - accuracy: 0.9907 - val_loss: 0.0649 - val_accuracy: 0.9824\n",
            "Epoch 10/10\n",
            "1875/1875 [==============================] - 6s 3ms/step - loss: 0.0274 - accuracy: 0.9905 - val_loss: 0.0650 - val_accuracy: 0.9814\n"
          ],
          "name": "stdout"
        }
      ]
    },
    {
      "cell_type": "code",
      "metadata": {
        "colab": {
          "base_uri": "https://localhost:8080/"
        },
        "id": "z4Oa39rGNXH3",
        "outputId": "ed753a24-8e4a-4962-ab99-d5fb5818994d"
      },
      "source": [
        "# Evaluating Model\n",
        "\n",
        "print(f'Classification Model Performance:\\nLoss: {clf.evaluate(M_test,n_test)[0]}\\nAccuracy: {round(clf.evaluate(M_test,n_test)[1]*100,2)}%')"
      ],
      "execution_count": 7,
      "outputs": [
        {
          "output_type": "stream",
          "text": [
            "313/313 [==============================] - 0s 2ms/step - loss: 0.0650 - accuracy: 0.9814\n",
            "313/313 [==============================] - 0s 2ms/step - loss: 0.0650 - accuracy: 0.9814\n",
            "Classification Model Performance:\n",
            "Loss: 0.06496468186378479\n",
            "Accuracy: 98.14%\n"
          ],
          "name": "stdout"
        }
      ]
    },
    {
      "cell_type": "code",
      "metadata": {
        "colab": {
          "base_uri": "https://localhost:8080/",
          "height": 282
        },
        "id": "1JfS5eATOH0F",
        "outputId": "2f1653e5-9e7e-43cc-fe73-ddaa57062636"
      },
      "source": [
        "# Plotting Loss\n",
        "\n",
        "plt.plot(result.history['loss'], label='Loss')\n",
        "plt.plot(result.history['val_loss'], label='Val_loss')\n",
        "plt.legend()"
      ],
      "execution_count": 8,
      "outputs": [
        {
          "output_type": "execute_result",
          "data": {
            "text/plain": [
              "<matplotlib.legend.Legend at 0x7f34de4f4510>"
            ]
          },
          "metadata": {
            "tags": []
          },
          "execution_count": 8
        },
        {
          "output_type": "display_data",
          "data": {
            "image/png": "[encoded data removed]",
            "text/plain": [
              "<Figure size 432x288 with 1 Axes>"
            ]
          },
          "metadata": {
            "tags": [],
            "needs_background": "light"
          }
        }
      ]
    },
    {
      "cell_type": "code",
      "metadata": {
        "colab": {
          "base_uri": "https://localhost:8080/",
          "height": 282
        },
        "id": "LAZHBu9jPj9w",
        "outputId": "78467f20-16e7-42eb-80da-ecbb301568c4"
      },
      "source": [
        "# Plotting Accuracy\n",
        "\n",
        "plt.plot(result.history['accuracy'], label='Accuracy')\n",
        "plt.plot(result.history['val_accuracy'], label='Val_Accuracy')\n",
        "plt.legend()"
      ],
      "execution_count": 9,
      "outputs": [
        {
          "output_type": "execute_result",
          "data": {
            "text/plain": [
              "<matplotlib.legend.Legend at 0x7f34db3d93d0>"
            ]
          },
          "metadata": {
            "tags": []
          },
          "execution_count": 9
        },
        {
          "output_type": "display_data",
          "data": {
            "image/png": "[encoded data removed]",
            "text/plain": [
              "<Figure size 432x288 with 1 Axes>"
            ]
          },
          "metadata": {
            "tags": [],
            "needs_background": "light"
          }
        }
      ]
    },
    {
      "cell_type": "code",
      "metadata": {
        "colab": {
          "base_uri": "https://localhost:8080/",
          "height": 496
        },
        "id": "VLkOPS2vPyW2",
        "outputId": "8336492d-5d02-4400-ebf7-f73a6c68d246"
      },
      "source": [
        "# Plot confusion matrix\n",
        "from sklearn.metrics import confusion_matrix\n",
        "import numpy as np\n",
        "import itertools\n",
        "\n",
        "def plot_confusion_matrix(cm, classes,\n",
        "                          normalize=False,\n",
        "                          title='Confusion matrix',\n",
        "                          cmap=plt.cm.Blues):\n",
        "  \"\"\"\n",
        "  This function prints and plots the confusion matrix.\n",
        "  Normalization can be applied by setting `normalize=True`.\n",
        "  \"\"\"\n",
        "  if normalize:\n",
        "      cm = cm.astype('float') / cm.sum(axis=1)[:, np.newaxis]\n",
        "      print(\"Normalized confusion matrix\")\n",
        "  else:\n",
        "      print('Confusion matrix, without normalization')\n",
        "\n",
        "  print(cm)\n",
        "\n",
        "  plt.imshow(cm, interpolation='nearest', cmap=cmap)\n",
        "  plt.title(title)\n",
        "  plt.colorbar()\n",
        "  tick_marks = np.arange(len(classes))\n",
        "  plt.xticks(tick_marks, classes, rotation=45)\n",
        "  plt.yticks(tick_marks, classes)\n",
        "\n",
        "  fmt = '.2f' if normalize else 'd'\n",
        "  thresh = cm.max() / 2.\n",
        "  for i, j in itertools.product(range(cm.shape[0]), range(cm.shape[1])):\n",
        "      plt.text(j, i, format(cm[i, j], fmt),\n",
        "               horizontalalignment=\"center\",\n",
        "               color=\"white\" if cm[i, j] > thresh else \"black\")\n",
        "\n",
        "  plt.tight_layout()\n",
        "  plt.ylabel('True label')\n",
        "  plt.xlabel('Predicted label')\n",
        "  plt.show()\n",
        "\n",
        "\n",
        "p_test = clf.predict(M_test).argmax(axis=1)\n",
        "cm = confusion_matrix(n_test, p_test)\n",
        "plot_confusion_matrix(cm, list(range(10)))"
      ],
      "execution_count": 10,
      "outputs": [
        {
          "output_type": "stream",
          "text": [
            "Confusion matrix, without normalization\n",
            "[[ 968    0    2    1    1    2    2    2    2    0]\n",
            " [   0 1125    3    0    0    0    2    1    4    0]\n",
            " [   0    1 1017    2    1    0    1    6    4    0]\n",
            " [   0    1    5  995    0    4    0    3    2    0]\n",
            " [   1    0    5    0  961    0    6    0    1    8]\n",
            " [   2    0    0    8    1  871    2    1    6    1]\n",
            " [   2    3    0    1    1    6  942    1    2    0]\n",
            " [   1    5   13    2    1    0    0 1001    2    3]\n",
            " [   1    0    5    7    3    3    1    3  948    3]\n",
            " [   1    3    0    3    7    2    0    5    2  986]]\n"
          ],
          "name": "stdout"
        },
        {
          "output_type": "display_data",
          "data": {
            "image/png": "[encoded data removed]",
            "text/plain": [
              "<Figure size 432x288 with 2 Axes>"
            ]
          },
          "metadata": {
            "tags": [],
            "needs_background": "light"
          }
        }
      ]
    },
    {
      "cell_type": "code",
      "metadata": {
        "colab": {
          "base_uri": "https://localhost:8080/",
          "height": 281
        },
        "id": "HbNK7M2aQQeo",
        "outputId": "5cd5d739-7531-4ec1-c65f-665371eb5d42"
      },
      "source": [
        "# Show some misclassified examples\n",
        "misclassified_idx = np.where(p_test != n_test)[0]\n",
        "i = np.random.choice(misclassified_idx)\n",
        "plt.imshow(M_test[i], cmap='gray')\n",
        "plt.title(\"True label: %s Predicted: %s\" % (n_test[i], p_test[i]));"
      ],
      "execution_count": 15,
      "outputs": [
        {
          "output_type": "display_data",
          "data": {
            "image/png": "[encoded data removed]",
            "text/plain": [
              "<Figure size 432x288 with 1 Axes>"
            ]
          },
          "metadata": {
            "tags": [],
            "needs_background": "light"
          }
        }
      ]
    }
  ]
}
