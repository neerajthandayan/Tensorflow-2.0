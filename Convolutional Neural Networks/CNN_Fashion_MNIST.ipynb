{
  "nbformat": 4,
  "nbformat_minor": 0,
  "metadata": {
    "colab": {
      "name": "CNN_Fashion_MNIST.ipynb",
      "provenance": [],
      "authorship_tag": "ABX9TyMcUozE1jgrp/imf9zl6V2H",
      "include_colab_link": true
    },
    "kernelspec": {
      "name": "python3",
      "display_name": "Python 3"
    },
    "language_info": {
      "name": "python"
    },
    "accelerator": "TPU"
  },
  "cells": [
    {
      "cell_type": "markdown",
      "metadata": {
        "id": "view-in-github",
        "colab_type": "text"
      },
      "source": [
        "<a href=\"https://colab.research.google.com/github/neerajthandayan/Tensorflow-2.0/blob/main/Convolutional%20Neural%20Networks/CNN_Fashion_MNIST.ipynb\" target=\"_parent\"><img src=\"https://colab.research.google.com/assets/colab-badge.svg\" alt=\"Open In Colab\"/></a>"
      ]
    },
    {
      "cell_type": "code",
      "metadata": {
        "id": "7yWADXeOA1j6"
      },
      "source": [
        "# Importing Libraries\n",
        "\n",
        "import numpy as np\n",
        "import matplotlib.pyplot as plt\n",
        "import tensorflow as tf\n",
        "from tensorflow.keras.models import Model\n",
        "from tensorflow.keras.layers import Input, Conv2D, Flatten, Dense, Dropout"
      ],
      "execution_count": 1,
      "outputs": []
    },
    {
      "cell_type": "code",
      "metadata": {
        "id": "k4k3aSQjDlU9"
      },
      "source": [
        "# Fetching data\n",
        "data = tf.keras.datasets.fashion_mnist\n",
        "\n",
        "(C_train,d_train), (C_test,d_test) = data.load_data()\n",
        "C_train, C_test = C_train/255, C_test/255"
      ],
      "execution_count": 2,
      "outputs": []
    },
    {
      "cell_type": "code",
      "metadata": {
        "colab": {
          "base_uri": "https://localhost:8080/"
        },
        "id": "epOIRAkFEr_4",
        "outputId": "ee5947a1-0c52-4c49-e6fd-3486ee9d46d8"
      },
      "source": [
        "# Checking data dimensions\n",
        "\n",
        "print(C_train.shape)"
      ],
      "execution_count": 3,
      "outputs": [
        {
          "output_type": "stream",
          "text": [
            "(60000, 28, 28)\n"
          ],
          "name": "stdout"
        }
      ]
    },
    {
      "cell_type": "code",
      "metadata": {
        "id": "iB5F7s_6E6tI"
      },
      "source": [
        "# Expandind data dimensions for convolution\n",
        "\n",
        "C_train = np.expand_dims(C_train, -1)\n",
        "C_test = np.expand_dims(C_test, -1)"
      ],
      "execution_count": 4,
      "outputs": []
    },
    {
      "cell_type": "code",
      "metadata": {
        "colab": {
          "base_uri": "https://localhost:8080/"
        },
        "id": "0gwWf9UIFX55",
        "outputId": "fead68ad-af70-4b2f-c609-91593fe22c5a"
      },
      "source": [
        "# Altered Shape\n",
        "\n",
        "C_train.shape"
      ],
      "execution_count": 5,
      "outputs": [
        {
          "output_type": "execute_result",
          "data": {
            "text/plain": [
              "(60000, 28, 28, 1)"
            ]
          },
          "metadata": {
            "tags": []
          },
          "execution_count": 5
        }
      ]
    },
    {
      "cell_type": "code",
      "metadata": {
        "colab": {
          "base_uri": "https://localhost:8080/"
        },
        "id": "Um9o_f6SHadq",
        "outputId": "04c3c809-a8c6-41e5-fd65-4af4a3656cdc"
      },
      "source": [
        "# Fetching the number of classes\n",
        "\n",
        "K = len(set(d_train))\n",
        "print(f\"Number of Classes: {K}\")"
      ],
      "execution_count": 6,
      "outputs": [
        {
          "output_type": "stream",
          "text": [
            "Number of Classes: 10\n"
          ],
          "name": "stdout"
        }
      ]
    },
    {
      "cell_type": "code",
      "metadata": {
        "colab": {
          "base_uri": "https://localhost:8080/"
        },
        "id": "H6WnsjrasF0X",
        "outputId": "a0ef6e92-21f9-45a6-fdb9-ebc12cbf28c6"
      },
      "source": [
        "C_train[0].shape"
      ],
      "execution_count": 7,
      "outputs": [
        {
          "output_type": "execute_result",
          "data": {
            "text/plain": [
              "(28, 28, 1)"
            ]
          },
          "metadata": {
            "tags": []
          },
          "execution_count": 7
        }
      ]
    },
    {
      "cell_type": "code",
      "metadata": {
        "id": "N96Gr5oyrlYC"
      },
      "source": [
        "# Construction model\n",
        "# Standardised coding style (using functional API)\n",
        "\n",
        "i = Input(shape=C_train[0].shape)\n",
        "x = Conv2D(32, (3,3), strides=2,activation=tf.keras.layers.LeakyReLU())(i)\n",
        "x = Conv2D(64, (3,3), strides=2,activation=tf.keras.layers.LeakyReLU())(x)\n",
        "x = Conv2D(128, (3,3), strides=2,activation=tf.keras.layers.LeakyReLU())(x)\n",
        "x = Flatten()(x)\n",
        "x = Dropout(0.1)(x)\n",
        "x = Dense(512, activation=tf.keras.layers.LeakyReLU())(x)\n",
        "x = Dropout(0.1)(x)\n",
        "x = Dense(K, activation='softmax')(x)\n",
        "\n",
        "model = Model(i, x)"
      ],
      "execution_count": 9,
      "outputs": []
    },
    {
      "cell_type": "code",
      "metadata": {
        "colab": {
          "base_uri": "https://localhost:8080/"
        },
        "id": "9fAiIZjCu9XL",
        "outputId": "0249e1c6-70aa-4ab8-8d30-fd629fd08d14"
      },
      "source": [
        "# Compiling model\n",
        "\n",
        "model.compile(optimizer='adam',\n",
        "              loss='sparse_categorical_crossentropy',\n",
        "              metrics=['accuracy'])\n",
        "\n",
        "result = model.fit(C_train, d_train, validation_data=(C_test,d_test), epochs=25)"
      ],
      "execution_count": 10,
      "outputs": [
        {
          "output_type": "stream",
          "text": [
            "Epoch 1/25\n",
            "1875/1875 [==============================] - 31s 16ms/step - loss: 0.6516 - accuracy: 0.7610 - val_loss: 0.4112 - val_accuracy: 0.8496\n",
            "Epoch 2/25\n",
            "1875/1875 [==============================] - 30s 16ms/step - loss: 0.3790 - accuracy: 0.8593 - val_loss: 0.3651 - val_accuracy: 0.8645\n",
            "Epoch 3/25\n",
            "1875/1875 [==============================] - 30s 16ms/step - loss: 0.3307 - accuracy: 0.8761 - val_loss: 0.3635 - val_accuracy: 0.8692\n",
            "Epoch 4/25\n",
            "1875/1875 [==============================] - 30s 16ms/step - loss: 0.3053 - accuracy: 0.8837 - val_loss: 0.3510 - val_accuracy: 0.8755\n",
            "Epoch 5/25\n",
            "1875/1875 [==============================] - 30s 16ms/step - loss: 0.2903 - accuracy: 0.8919 - val_loss: 0.3633 - val_accuracy: 0.8726\n",
            "Epoch 6/25\n",
            "1875/1875 [==============================] - 30s 16ms/step - loss: 0.2706 - accuracy: 0.8972 - val_loss: 0.3327 - val_accuracy: 0.8826\n",
            "Epoch 7/25\n",
            "1875/1875 [==============================] - 30s 16ms/step - loss: 0.2549 - accuracy: 0.9031 - val_loss: 0.3190 - val_accuracy: 0.8869\n",
            "Epoch 8/25\n",
            "1875/1875 [==============================] - 31s 16ms/step - loss: 0.2445 - accuracy: 0.9090 - val_loss: 0.3431 - val_accuracy: 0.8754\n",
            "Epoch 9/25\n",
            "1875/1875 [==============================] - 31s 17ms/step - loss: 0.2293 - accuracy: 0.9137 - val_loss: 0.3301 - val_accuracy: 0.8853\n",
            "Epoch 10/25\n",
            "1875/1875 [==============================] - 31s 17ms/step - loss: 0.2257 - accuracy: 0.9140 - val_loss: 0.3497 - val_accuracy: 0.8769\n",
            "Epoch 11/25\n",
            "1875/1875 [==============================] - 32s 17ms/step - loss: 0.2147 - accuracy: 0.9179 - val_loss: 0.3711 - val_accuracy: 0.8757\n",
            "Epoch 12/25\n",
            "1875/1875 [==============================] - 32s 17ms/step - loss: 0.2089 - accuracy: 0.9200 - val_loss: 0.3283 - val_accuracy: 0.8924\n",
            "Epoch 13/25\n",
            "1875/1875 [==============================] - 31s 17ms/step - loss: 0.1965 - accuracy: 0.9251 - val_loss: 0.3492 - val_accuracy: 0.8875\n",
            "Epoch 14/25\n",
            "1875/1875 [==============================] - 31s 17ms/step - loss: 0.1910 - accuracy: 0.9285 - val_loss: 0.3410 - val_accuracy: 0.8894\n",
            "Epoch 15/25\n",
            "1875/1875 [==============================] - 31s 17ms/step - loss: 0.1844 - accuracy: 0.9309 - val_loss: 0.3518 - val_accuracy: 0.8903\n",
            "Epoch 16/25\n",
            "1875/1875 [==============================] - 31s 17ms/step - loss: 0.1765 - accuracy: 0.9323 - val_loss: 0.3542 - val_accuracy: 0.8901\n",
            "Epoch 17/25\n",
            "1875/1875 [==============================] - 31s 16ms/step - loss: 0.1712 - accuracy: 0.9356 - val_loss: 0.3674 - val_accuracy: 0.8911\n",
            "Epoch 18/25\n",
            "1875/1875 [==============================] - 31s 17ms/step - loss: 0.1688 - accuracy: 0.9372 - val_loss: 0.3663 - val_accuracy: 0.8930\n",
            "Epoch 19/25\n",
            "1875/1875 [==============================] - 31s 17ms/step - loss: 0.1671 - accuracy: 0.9361 - val_loss: 0.3651 - val_accuracy: 0.8909\n",
            "Epoch 20/25\n",
            "1875/1875 [==============================] - 31s 16ms/step - loss: 0.1573 - accuracy: 0.9410 - val_loss: 0.3708 - val_accuracy: 0.8915\n",
            "Epoch 21/25\n",
            "1875/1875 [==============================] - 32s 17ms/step - loss: 0.1544 - accuracy: 0.9422 - val_loss: 0.3895 - val_accuracy: 0.8917\n",
            "Epoch 22/25\n",
            "1875/1875 [==============================] - 31s 17ms/step - loss: 0.1539 - accuracy: 0.9432 - val_loss: 0.3701 - val_accuracy: 0.8937\n",
            "Epoch 23/25\n",
            "1875/1875 [==============================] - 32s 17ms/step - loss: 0.1441 - accuracy: 0.9456 - val_loss: 0.4142 - val_accuracy: 0.8844\n",
            "Epoch 24/25\n",
            "1875/1875 [==============================] - 32s 17ms/step - loss: 0.1527 - accuracy: 0.9416 - val_loss: 0.3930 - val_accuracy: 0.8907\n",
            "Epoch 25/25\n",
            "1875/1875 [==============================] - 31s 17ms/step - loss: 0.1411 - accuracy: 0.9460 - val_loss: 0.3920 - val_accuracy: 0.8932\n"
          ],
          "name": "stdout"
        }
      ]
    },
    {
      "cell_type": "code",
      "metadata": {
        "id": "85ADJEE3wfJz",
        "outputId": "9ec37ff8-ca1b-411b-8263-74790278e15d",
        "colab": {
          "base_uri": "https://localhost:8080/",
          "height": 282
        }
      },
      "source": [
        "# Plotting Loss\n",
        "\n",
        "plt.plot(result.history['loss'], label='Loss')\n",
        "plt.plot(result.history['val_loss'], label='Val_Loss')\n",
        "plt.legend()"
      ],
      "execution_count": 11,
      "outputs": [
        {
          "output_type": "execute_result",
          "data": {
            "text/plain": [
              "<matplotlib.legend.Legend at 0x7fb6da9da550>"
            ]
          },
          "metadata": {
            "tags": []
          },
          "execution_count": 11
        },
        {
          "output_type": "display_data",
          "data": {
            "image/png": "[encoded data removed]",
            "text/plain": [
              "<Figure size 432x288 with 1 Axes>"
            ]
          },
          "metadata": {
            "tags": [],
            "needs_background": "light"
          }
        }
      ]
    },
    {
      "cell_type": "code",
      "metadata": {
        "id": "eKirmgMIz3rb",
        "outputId": "dcfc89ab-ed12-49f9-8552-2c2579a163ca",
        "colab": {
          "base_uri": "https://localhost:8080/",
          "height": 282
        }
      },
      "source": [
        "# Plotting Accuracy\n",
        "\n",
        "plt.plot(result.history['accuracy'], label='Accuracy')\n",
        "plt.plot(result.history['val_accuracy'], label='Val_Accuracy')\n",
        "plt.legend()"
      ],
      "execution_count": 12,
      "outputs": [
        {
          "output_type": "execute_result",
          "data": {
            "text/plain": [
              "<matplotlib.legend.Legend at 0x7fb6da47fc50>"
            ]
          },
          "metadata": {
            "tags": []
          },
          "execution_count": 12
        },
        {
          "output_type": "display_data",
          "data": {
            "image/png": "[encoded data removed]",
            "text/plain": [
              "<Figure size 432x288 with 1 Axes>"
            ]
          },
          "metadata": {
            "tags": [],
            "needs_background": "light"
          }
        }
      ]
    },
    {
      "cell_type": "code",
      "metadata": {
        "id": "UgBDhlQU3F4J",
        "outputId": "7f81d127-22ba-4d94-8367-a721c26a893a",
        "colab": {
          "base_uri": "https://localhost:8080/",
          "height": 496
        }
      },
      "source": [
        "# Plot confusion matrix\n",
        "from sklearn.metrics import confusion_matrix\n",
        "import itertools\n",
        "\n",
        "def plot_confusion_matrix(cm, classes,\n",
        "                          normalize=False,\n",
        "                          title='Confusion matrix',\n",
        "                          cmap=plt.cm.Blues):\n",
        "  \"\"\"\n",
        "  This function prints and plots the confusion matrix.\n",
        "  Normalization can be applied by setting `normalize=True`.\n",
        "  \"\"\"\n",
        "  if normalize:\n",
        "      cm = cm.astype('float') / cm.sum(axis=1)[:, np.newaxis]\n",
        "      print(\"Normalized confusion matrix\")\n",
        "  else:\n",
        "      print('Confusion matrix, without normalization')\n",
        "\n",
        "  print(cm)\n",
        "\n",
        "  plt.imshow(cm, interpolation='nearest', cmap=cmap)\n",
        "  plt.title(title)\n",
        "  plt.colorbar()\n",
        "  tick_marks = np.arange(len(classes))\n",
        "  plt.xticks(tick_marks, classes, rotation=45)\n",
        "  plt.yticks(tick_marks, classes)\n",
        "\n",
        "  fmt = '.2f' if normalize else 'd'\n",
        "  thresh = cm.max() / 2.\n",
        "  for i, j in itertools.product(range(cm.shape[0]), range(cm.shape[1])):\n",
        "      plt.text(j, i, format(cm[i, j], fmt),\n",
        "               horizontalalignment=\"center\",\n",
        "               color=\"white\" if cm[i, j] > thresh else \"black\")\n",
        "\n",
        "  plt.tight_layout()\n",
        "  plt.ylabel('True label')\n",
        "  plt.xlabel('Predicted label')\n",
        "  plt.show()\n",
        "\n",
        "\n",
        "p_test = model.predict(C_test).argmax(axis=1)\n",
        "cm = confusion_matrix(d_test, p_test)\n",
        "plot_confusion_matrix(cm, list(range(10)))"
      ],
      "execution_count": 13,
      "outputs": [
        {
          "output_type": "stream",
          "text": [
            "Confusion matrix, without normalization\n",
            "[[847   0  28  10   4   2 105   0   4   0]\n",
            " [  2 971   1  16   6   0   4   0   0   0]\n",
            " [ 21   0 851   7  53   0  65   0   2   1]\n",
            " [ 25   9  27 876  23   1  39   0   0   0]\n",
            " [  0   1  72  27 813   0  87   0   0   0]\n",
            " [  1   0   0   1   0 975   0  18   0   5]\n",
            " [113   0  76  17  64   0 725   0   5   0]\n",
            " [  0   0   0   0   0  15   0 955   0  30]\n",
            " [  3   1   9   2   4   2   8   4 967   0]\n",
            " [  1   0   0   0   0   7   0  40   0 952]]\n"
          ],
          "name": "stdout"
        },
        {
          "output_type": "display_data",
          "data": {
            "image/png": "[encoded data removed]",
            "text/plain": [
              "<Figure size 432x288 with 2 Axes>"
            ]
          },
          "metadata": {
            "tags": [],
            "needs_background": "light"
          }
        }
      ]
    },
    {
      "cell_type": "code",
      "metadata": {
        "id": "Ldrsgkzv3NId"
      },
      "source": [
        "# Label mapping\n",
        "labels = '''T-shirt/top\n",
        "Trouser\n",
        "Pullover\n",
        "Dress\n",
        "Coat\n",
        "Sandal\n",
        "Shirt\n",
        "Sneaker\n",
        "Bag\n",
        "Ankle boot'''.split(\"\\n\")"
      ],
      "execution_count": 14,
      "outputs": []
    },
    {
      "cell_type": "code",
      "metadata": {
        "id": "mCNGDjK93SgI",
        "outputId": "a8958fef-a0a5-4e35-9ebe-c82dec43b9c5",
        "colab": {
          "base_uri": "https://localhost:8080/",
          "height": 281
        }
      },
      "source": [
        "# Show some misclassified examples\n",
        "misclassified_idx = np.where(p_test != d_test)[0]\n",
        "i = np.random.choice(misclassified_idx)\n",
        "plt.imshow(C_test[i].reshape(28,28), cmap='gray')\n",
        "plt.title(\"True label: %s Predicted: %s\" % (labels[d_test[i]], labels[p_test[i]]));"
      ],
      "execution_count": 19,
      "outputs": [
        {
          "output_type": "display_data",
          "data": {
            "image/png": "[encoded data removed]",
            "text/plain": [
              "<Figure size 432x288 with 1 Axes>"
            ]
          },
          "metadata": {
            "tags": [],
            "needs_background": "light"
          }
        }
      ]
    }
  ]
}