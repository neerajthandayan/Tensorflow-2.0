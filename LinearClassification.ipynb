{
  "nbformat": 4,
  "nbformat_minor": 0,
  "metadata": {
    "colab": {
      "name": "LinearClassification.ipynb",
      "provenance": [],
      "authorship_tag": "ABX9TyNHVB1Qa7t6TOcg0b3qkazh",
      "include_colab_link": true
    },
    "kernelspec": {
      "name": "python3",
      "display_name": "Python 3"
    },
    "language_info": {
      "name": "python"
    },
    "accelerator": "GPU"
  },
  "cells": [
    {
      "cell_type": "markdown",
      "metadata": {
        "id": "view-in-github",
        "colab_type": "text"
      },
      "source": [
        "<a href=\"https://colab.research.google.com/github/neerajthandayan/Tensorflow-2.0/blob/main/LinearClassification.ipynb\" target=\"_parent\"><img src=\"https://colab.research.google.com/assets/colab-badge.svg\" alt=\"Open In Colab\"/></a>"
      ]
    },
    {
      "cell_type": "code",
      "metadata": {
        "id": "w8R85AQIGrt1"
      },
      "source": [
        "# Importing Libraries\n",
        "\n",
        "import pandas as pd\n",
        "import numpy as np\n",
        "from sklearn.datasets import load_breast_cancer\n",
        "from sklearn.model_selection import train_test_split\n",
        "from sklearn.preprocessing import StandardScaler\n",
        "import tensorflow as tf\n",
        "import matplotlib.pyplot as plt"
      ],
      "execution_count": 1,
      "outputs": []
    },
    {
      "cell_type": "code",
      "metadata": {
        "colab": {
          "base_uri": "https://localhost:8080/"
        },
        "id": "Mn1gSP82IdpB",
        "outputId": "21d685ad-70ca-474e-a6e8-d0a0ee02b3eb"
      },
      "source": [
        "# Data investigation\n",
        "\n",
        "data = load_breast_cancer()\n",
        "print(type(data),data.keys())"
      ],
      "execution_count": 2,
      "outputs": [
        {
          "output_type": "stream",
          "text": [
            "<class 'sklearn.utils.Bunch'> dict_keys(['data', 'target', 'target_names', 'DESCR', 'feature_names', 'filename'])\n"
          ],
          "name": "stdout"
        }
      ]
    },
    {
      "cell_type": "code",
      "metadata": {
        "colab": {
          "base_uri": "https://localhost:8080/"
        },
        "id": "Knc_f2D7IrIS",
        "outputId": "994c0af8-9ad9-4da3-f4b2-171b618799a5"
      },
      "source": [
        "# Checking dimensions of data\n",
        "print(data.data.shape, data.target.shape)"
      ],
      "execution_count": 3,
      "outputs": [
        {
          "output_type": "stream",
          "text": [
            "(569, 30) (569,)\n"
          ],
          "name": "stdout"
        }
      ]
    },
    {
      "cell_type": "code",
      "metadata": {
        "id": "43dnR_66Jd5n"
      },
      "source": [
        "# Creating A and b variables\n",
        "\n",
        "A = data.data\n",
        "b = data.target"
      ],
      "execution_count": 4,
      "outputs": []
    },
    {
      "cell_type": "code",
      "metadata": {
        "id": "TX1Kjm_7JHPv"
      },
      "source": [
        "# Creating train test split\n",
        "A_train,A_test,b_train,b_test = train_test_split(A,b,test_size=0.2,stratify=b)"
      ],
      "execution_count": 5,
      "outputs": []
    },
    {
      "cell_type": "code",
      "metadata": {
        "id": "RDg6Z8LYJ2hg"
      },
      "source": [
        "# Feature Scaling\n",
        "\n",
        "scaler = StandardScaler()\n",
        "A_train = scaler.fit_transform(A_train)\n",
        "A_test = scaler.transform(A_test)"
      ],
      "execution_count": 6,
      "outputs": []
    },
    {
      "cell_type": "code",
      "metadata": {
        "colab": {
          "base_uri": "https://localhost:8080/"
        },
        "id": "fv39rMmQLLLY",
        "outputId": "49710c3a-45c5-468c-842f-18183da2b716"
      },
      "source": [
        "# Constructing model\n",
        "cmodel = tf.keras.models.Sequential()\n",
        "\n",
        "cmodel.add(tf.keras.layers.Dense(1, input_shape=(A_train.shape[1],), activation='sigmoid'))\n",
        "\n",
        "cmodel.compile(optimizer='adam',\n",
        "               loss='binary_crossentropy',\n",
        "               metrics=['accuracy'])\n",
        "\n",
        "# Fitting model\n",
        "clf = cmodel.fit(A_train,b_train, validation_data=(A_test,b_test), epochs=100)"
      ],
      "execution_count": 7,
      "outputs": [
        {
          "output_type": "stream",
          "text": [
            "Epoch 1/100\n",
            "15/15 [==============================] - 3s 38ms/step - loss: 0.5437 - accuracy: 0.7682 - val_loss: 0.5808 - val_accuracy: 0.7632\n",
            "Epoch 2/100\n",
            "15/15 [==============================] - 0s 5ms/step - loss: 0.5295 - accuracy: 0.7928 - val_loss: 0.5300 - val_accuracy: 0.7895\n",
            "Epoch 3/100\n",
            "15/15 [==============================] - 0s 5ms/step - loss: 0.4532 - accuracy: 0.8174 - val_loss: 0.4865 - val_accuracy: 0.8070\n",
            "Epoch 4/100\n",
            "15/15 [==============================] - 0s 5ms/step - loss: 0.4049 - accuracy: 0.8344 - val_loss: 0.4494 - val_accuracy: 0.8333\n",
            "Epoch 5/100\n",
            "15/15 [==============================] - 0s 6ms/step - loss: 0.4536 - accuracy: 0.8112 - val_loss: 0.4170 - val_accuracy: 0.8421\n",
            "Epoch 6/100\n",
            "15/15 [==============================] - 0s 6ms/step - loss: 0.3715 - accuracy: 0.8377 - val_loss: 0.3905 - val_accuracy: 0.8509\n",
            "Epoch 7/100\n",
            "15/15 [==============================] - 0s 6ms/step - loss: 0.3452 - accuracy: 0.8738 - val_loss: 0.3671 - val_accuracy: 0.8596\n",
            "Epoch 8/100\n",
            "15/15 [==============================] - 0s 5ms/step - loss: 0.2902 - accuracy: 0.9018 - val_loss: 0.3471 - val_accuracy: 0.8596\n",
            "Epoch 9/100\n",
            "15/15 [==============================] - 0s 6ms/step - loss: 0.3171 - accuracy: 0.8892 - val_loss: 0.3284 - val_accuracy: 0.8684\n",
            "Epoch 10/100\n",
            "15/15 [==============================] - 0s 6ms/step - loss: 0.2655 - accuracy: 0.9050 - val_loss: 0.3122 - val_accuracy: 0.8860\n",
            "Epoch 11/100\n",
            "15/15 [==============================] - 0s 5ms/step - loss: 0.2712 - accuracy: 0.9000 - val_loss: 0.2973 - val_accuracy: 0.8860\n",
            "Epoch 12/100\n",
            "15/15 [==============================] - 0s 6ms/step - loss: 0.2823 - accuracy: 0.9075 - val_loss: 0.2837 - val_accuracy: 0.8947\n",
            "Epoch 13/100\n",
            "15/15 [==============================] - 0s 5ms/step - loss: 0.2655 - accuracy: 0.9119 - val_loss: 0.2715 - val_accuracy: 0.8947\n",
            "Epoch 14/100\n",
            "15/15 [==============================] - 0s 6ms/step - loss: 0.2461 - accuracy: 0.9075 - val_loss: 0.2610 - val_accuracy: 0.8947\n",
            "Epoch 15/100\n",
            "15/15 [==============================] - 0s 6ms/step - loss: 0.2297 - accuracy: 0.9102 - val_loss: 0.2508 - val_accuracy: 0.9035\n",
            "Epoch 16/100\n",
            "15/15 [==============================] - 0s 5ms/step - loss: 0.2380 - accuracy: 0.9094 - val_loss: 0.2416 - val_accuracy: 0.9123\n",
            "Epoch 17/100\n",
            "15/15 [==============================] - 0s 6ms/step - loss: 0.2461 - accuracy: 0.8930 - val_loss: 0.2338 - val_accuracy: 0.9123\n",
            "Epoch 18/100\n",
            "15/15 [==============================] - 0s 6ms/step - loss: 0.2132 - accuracy: 0.9274 - val_loss: 0.2266 - val_accuracy: 0.9123\n",
            "Epoch 19/100\n",
            "15/15 [==============================] - 0s 6ms/step - loss: 0.1994 - accuracy: 0.9251 - val_loss: 0.2198 - val_accuracy: 0.9123\n",
            "Epoch 20/100\n",
            "15/15 [==============================] - 0s 5ms/step - loss: 0.1857 - accuracy: 0.9369 - val_loss: 0.2135 - val_accuracy: 0.9123\n",
            "Epoch 21/100\n",
            "15/15 [==============================] - 0s 5ms/step - loss: 0.1944 - accuracy: 0.9336 - val_loss: 0.2074 - val_accuracy: 0.9211\n",
            "Epoch 22/100\n",
            "15/15 [==============================] - 0s 5ms/step - loss: 0.1792 - accuracy: 0.9398 - val_loss: 0.2018 - val_accuracy: 0.9298\n",
            "Epoch 23/100\n",
            "15/15 [==============================] - 0s 5ms/step - loss: 0.1816 - accuracy: 0.9393 - val_loss: 0.1969 - val_accuracy: 0.9298\n",
            "Epoch 24/100\n",
            "15/15 [==============================] - 0s 6ms/step - loss: 0.1898 - accuracy: 0.9395 - val_loss: 0.1922 - val_accuracy: 0.9298\n",
            "Epoch 25/100\n",
            "15/15 [==============================] - 0s 5ms/step - loss: 0.1709 - accuracy: 0.9450 - val_loss: 0.1878 - val_accuracy: 0.9298\n",
            "Epoch 26/100\n",
            "15/15 [==============================] - 0s 5ms/step - loss: 0.1791 - accuracy: 0.9338 - val_loss: 0.1838 - val_accuracy: 0.9386\n",
            "Epoch 27/100\n",
            "15/15 [==============================] - 0s 5ms/step - loss: 0.1844 - accuracy: 0.9421 - val_loss: 0.1798 - val_accuracy: 0.9386\n",
            "Epoch 28/100\n",
            "15/15 [==============================] - 0s 6ms/step - loss: 0.1693 - accuracy: 0.9456 - val_loss: 0.1762 - val_accuracy: 0.9386\n",
            "Epoch 29/100\n",
            "15/15 [==============================] - 0s 6ms/step - loss: 0.1495 - accuracy: 0.9620 - val_loss: 0.1728 - val_accuracy: 0.9386\n",
            "Epoch 30/100\n",
            "15/15 [==============================] - 0s 6ms/step - loss: 0.1775 - accuracy: 0.9360 - val_loss: 0.1693 - val_accuracy: 0.9386\n",
            "Epoch 31/100\n",
            "15/15 [==============================] - 0s 5ms/step - loss: 0.1566 - accuracy: 0.9488 - val_loss: 0.1663 - val_accuracy: 0.9386\n",
            "Epoch 32/100\n",
            "15/15 [==============================] - 0s 6ms/step - loss: 0.1688 - accuracy: 0.9449 - val_loss: 0.1634 - val_accuracy: 0.9386\n",
            "Epoch 33/100\n",
            "15/15 [==============================] - 0s 6ms/step - loss: 0.1571 - accuracy: 0.9444 - val_loss: 0.1607 - val_accuracy: 0.9386\n",
            "Epoch 34/100\n",
            "15/15 [==============================] - 0s 5ms/step - loss: 0.1489 - accuracy: 0.9544 - val_loss: 0.1579 - val_accuracy: 0.9386\n",
            "Epoch 35/100\n",
            "15/15 [==============================] - 0s 5ms/step - loss: 0.1230 - accuracy: 0.9747 - val_loss: 0.1556 - val_accuracy: 0.9386\n",
            "Epoch 36/100\n",
            "15/15 [==============================] - 0s 5ms/step - loss: 0.1257 - accuracy: 0.9656 - val_loss: 0.1533 - val_accuracy: 0.9386\n",
            "Epoch 37/100\n",
            "15/15 [==============================] - 0s 6ms/step - loss: 0.1414 - accuracy: 0.9575 - val_loss: 0.1513 - val_accuracy: 0.9386\n",
            "Epoch 38/100\n",
            "15/15 [==============================] - 0s 5ms/step - loss: 0.1309 - accuracy: 0.9682 - val_loss: 0.1493 - val_accuracy: 0.9386\n",
            "Epoch 39/100\n",
            "15/15 [==============================] - 0s 6ms/step - loss: 0.1497 - accuracy: 0.9557 - val_loss: 0.1475 - val_accuracy: 0.9386\n",
            "Epoch 40/100\n",
            "15/15 [==============================] - 0s 6ms/step - loss: 0.1340 - accuracy: 0.9633 - val_loss: 0.1457 - val_accuracy: 0.9386\n",
            "Epoch 41/100\n",
            "15/15 [==============================] - 0s 5ms/step - loss: 0.1641 - accuracy: 0.9502 - val_loss: 0.1440 - val_accuracy: 0.9474\n",
            "Epoch 42/100\n",
            "15/15 [==============================] - 0s 6ms/step - loss: 0.1341 - accuracy: 0.9672 - val_loss: 0.1423 - val_accuracy: 0.9474\n",
            "Epoch 43/100\n",
            "15/15 [==============================] - 0s 5ms/step - loss: 0.1219 - accuracy: 0.9725 - val_loss: 0.1405 - val_accuracy: 0.9474\n",
            "Epoch 44/100\n",
            "15/15 [==============================] - 0s 5ms/step - loss: 0.1332 - accuracy: 0.9675 - val_loss: 0.1389 - val_accuracy: 0.9474\n",
            "Epoch 45/100\n",
            "15/15 [==============================] - 0s 6ms/step - loss: 0.1333 - accuracy: 0.9613 - val_loss: 0.1372 - val_accuracy: 0.9474\n",
            "Epoch 46/100\n",
            "15/15 [==============================] - 0s 5ms/step - loss: 0.1209 - accuracy: 0.9673 - val_loss: 0.1357 - val_accuracy: 0.9474\n",
            "Epoch 47/100\n",
            "15/15 [==============================] - 0s 6ms/step - loss: 0.1087 - accuracy: 0.9683 - val_loss: 0.1345 - val_accuracy: 0.9474\n",
            "Epoch 48/100\n",
            "15/15 [==============================] - 0s 5ms/step - loss: 0.1192 - accuracy: 0.9744 - val_loss: 0.1331 - val_accuracy: 0.9474\n",
            "Epoch 49/100\n",
            "15/15 [==============================] - 0s 5ms/step - loss: 0.1025 - accuracy: 0.9753 - val_loss: 0.1318 - val_accuracy: 0.9474\n",
            "Epoch 50/100\n",
            "15/15 [==============================] - 0s 6ms/step - loss: 0.1109 - accuracy: 0.9666 - val_loss: 0.1309 - val_accuracy: 0.9474\n",
            "Epoch 51/100\n",
            "15/15 [==============================] - 0s 6ms/step - loss: 0.1139 - accuracy: 0.9700 - val_loss: 0.1297 - val_accuracy: 0.9474\n",
            "Epoch 52/100\n",
            "15/15 [==============================] - 0s 6ms/step - loss: 0.1225 - accuracy: 0.9676 - val_loss: 0.1286 - val_accuracy: 0.9474\n",
            "Epoch 53/100\n",
            "15/15 [==============================] - 0s 6ms/step - loss: 0.1165 - accuracy: 0.9619 - val_loss: 0.1274 - val_accuracy: 0.9474\n",
            "Epoch 54/100\n",
            "15/15 [==============================] - 0s 6ms/step - loss: 0.1002 - accuracy: 0.9844 - val_loss: 0.1264 - val_accuracy: 0.9474\n",
            "Epoch 55/100\n",
            "15/15 [==============================] - 0s 5ms/step - loss: 0.1117 - accuracy: 0.9775 - val_loss: 0.1254 - val_accuracy: 0.9474\n",
            "Epoch 56/100\n",
            "15/15 [==============================] - 0s 6ms/step - loss: 0.0880 - accuracy: 0.9791 - val_loss: 0.1242 - val_accuracy: 0.9474\n",
            "Epoch 57/100\n",
            "15/15 [==============================] - 0s 5ms/step - loss: 0.1184 - accuracy: 0.9644 - val_loss: 0.1232 - val_accuracy: 0.9474\n",
            "Epoch 58/100\n",
            "15/15 [==============================] - 0s 5ms/step - loss: 0.1037 - accuracy: 0.9720 - val_loss: 0.1224 - val_accuracy: 0.9474\n",
            "Epoch 59/100\n",
            "15/15 [==============================] - 0s 5ms/step - loss: 0.1132 - accuracy: 0.9659 - val_loss: 0.1214 - val_accuracy: 0.9561\n",
            "Epoch 60/100\n",
            "15/15 [==============================] - 0s 6ms/step - loss: 0.1030 - accuracy: 0.9836 - val_loss: 0.1205 - val_accuracy: 0.9561\n",
            "Epoch 61/100\n",
            "15/15 [==============================] - 0s 6ms/step - loss: 0.0934 - accuracy: 0.9783 - val_loss: 0.1198 - val_accuracy: 0.9561\n",
            "Epoch 62/100\n",
            "15/15 [==============================] - 0s 5ms/step - loss: 0.0936 - accuracy: 0.9839 - val_loss: 0.1189 - val_accuracy: 0.9561\n",
            "Epoch 63/100\n",
            "15/15 [==============================] - 0s 5ms/step - loss: 0.0993 - accuracy: 0.9716 - val_loss: 0.1182 - val_accuracy: 0.9561\n",
            "Epoch 64/100\n",
            "15/15 [==============================] - 0s 5ms/step - loss: 0.0974 - accuracy: 0.9784 - val_loss: 0.1172 - val_accuracy: 0.9561\n",
            "Epoch 65/100\n",
            "15/15 [==============================] - 0s 5ms/step - loss: 0.0910 - accuracy: 0.9807 - val_loss: 0.1163 - val_accuracy: 0.9561\n",
            "Epoch 66/100\n",
            "15/15 [==============================] - 0s 5ms/step - loss: 0.1024 - accuracy: 0.9719 - val_loss: 0.1155 - val_accuracy: 0.9561\n",
            "Epoch 67/100\n",
            "15/15 [==============================] - 0s 5ms/step - loss: 0.1068 - accuracy: 0.9680 - val_loss: 0.1148 - val_accuracy: 0.9561\n",
            "Epoch 68/100\n",
            "15/15 [==============================] - 0s 6ms/step - loss: 0.1012 - accuracy: 0.9756 - val_loss: 0.1142 - val_accuracy: 0.9561\n",
            "Epoch 69/100\n",
            "15/15 [==============================] - 0s 6ms/step - loss: 0.0937 - accuracy: 0.9697 - val_loss: 0.1133 - val_accuracy: 0.9561\n",
            "Epoch 70/100\n",
            "15/15 [==============================] - 0s 5ms/step - loss: 0.0970 - accuracy: 0.9702 - val_loss: 0.1126 - val_accuracy: 0.9561\n",
            "Epoch 71/100\n",
            "15/15 [==============================] - 0s 5ms/step - loss: 0.1020 - accuracy: 0.9760 - val_loss: 0.1121 - val_accuracy: 0.9561\n",
            "Epoch 72/100\n",
            "15/15 [==============================] - 0s 5ms/step - loss: 0.1036 - accuracy: 0.9774 - val_loss: 0.1116 - val_accuracy: 0.9561\n",
            "Epoch 73/100\n",
            "15/15 [==============================] - 0s 5ms/step - loss: 0.0907 - accuracy: 0.9729 - val_loss: 0.1113 - val_accuracy: 0.9561\n",
            "Epoch 74/100\n",
            "15/15 [==============================] - 0s 5ms/step - loss: 0.0919 - accuracy: 0.9741 - val_loss: 0.1107 - val_accuracy: 0.9561\n",
            "Epoch 75/100\n",
            "15/15 [==============================] - 0s 6ms/step - loss: 0.0939 - accuracy: 0.9796 - val_loss: 0.1102 - val_accuracy: 0.9561\n",
            "Epoch 76/100\n",
            "15/15 [==============================] - 0s 5ms/step - loss: 0.0966 - accuracy: 0.9845 - val_loss: 0.1096 - val_accuracy: 0.9561\n",
            "Epoch 77/100\n",
            "15/15 [==============================] - 0s 5ms/step - loss: 0.1038 - accuracy: 0.9779 - val_loss: 0.1090 - val_accuracy: 0.9561\n",
            "Epoch 78/100\n",
            "15/15 [==============================] - 0s 6ms/step - loss: 0.0920 - accuracy: 0.9797 - val_loss: 0.1084 - val_accuracy: 0.9561\n",
            "Epoch 79/100\n",
            "15/15 [==============================] - 0s 6ms/step - loss: 0.0882 - accuracy: 0.9845 - val_loss: 0.1077 - val_accuracy: 0.9561\n",
            "Epoch 80/100\n",
            "15/15 [==============================] - 0s 6ms/step - loss: 0.0841 - accuracy: 0.9803 - val_loss: 0.1072 - val_accuracy: 0.9561\n",
            "Epoch 81/100\n",
            "15/15 [==============================] - 0s 5ms/step - loss: 0.1036 - accuracy: 0.9811 - val_loss: 0.1067 - val_accuracy: 0.9649\n",
            "Epoch 82/100\n",
            "15/15 [==============================] - 0s 6ms/step - loss: 0.1222 - accuracy: 0.9674 - val_loss: 0.1063 - val_accuracy: 0.9649\n",
            "Epoch 83/100\n",
            "15/15 [==============================] - 0s 6ms/step - loss: 0.0780 - accuracy: 0.9858 - val_loss: 0.1059 - val_accuracy: 0.9649\n",
            "Epoch 84/100\n",
            "15/15 [==============================] - 0s 6ms/step - loss: 0.0857 - accuracy: 0.9835 - val_loss: 0.1054 - val_accuracy: 0.9649\n",
            "Epoch 85/100\n",
            "15/15 [==============================] - 0s 6ms/step - loss: 0.1003 - accuracy: 0.9768 - val_loss: 0.1052 - val_accuracy: 0.9649\n",
            "Epoch 86/100\n",
            "15/15 [==============================] - 0s 8ms/step - loss: 0.0814 - accuracy: 0.9891 - val_loss: 0.1048 - val_accuracy: 0.9649\n",
            "Epoch 87/100\n",
            "15/15 [==============================] - 0s 5ms/step - loss: 0.0884 - accuracy: 0.9796 - val_loss: 0.1043 - val_accuracy: 0.9649\n",
            "Epoch 88/100\n",
            "15/15 [==============================] - 0s 6ms/step - loss: 0.0782 - accuracy: 0.9852 - val_loss: 0.1038 - val_accuracy: 0.9649\n",
            "Epoch 89/100\n",
            "15/15 [==============================] - 0s 5ms/step - loss: 0.0726 - accuracy: 0.9864 - val_loss: 0.1032 - val_accuracy: 0.9649\n",
            "Epoch 90/100\n",
            "15/15 [==============================] - 0s 6ms/step - loss: 0.0759 - accuracy: 0.9812 - val_loss: 0.1028 - val_accuracy: 0.9649\n",
            "Epoch 91/100\n",
            "15/15 [==============================] - 0s 6ms/step - loss: 0.0782 - accuracy: 0.9823 - val_loss: 0.1025 - val_accuracy: 0.9649\n",
            "Epoch 92/100\n",
            "15/15 [==============================] - 0s 5ms/step - loss: 0.0976 - accuracy: 0.9726 - val_loss: 0.1021 - val_accuracy: 0.9649\n",
            "Epoch 93/100\n",
            "15/15 [==============================] - 0s 6ms/step - loss: 0.0747 - accuracy: 0.9819 - val_loss: 0.1017 - val_accuracy: 0.9649\n",
            "Epoch 94/100\n",
            "15/15 [==============================] - 0s 6ms/step - loss: 0.0728 - accuracy: 0.9875 - val_loss: 0.1013 - val_accuracy: 0.9649\n",
            "Epoch 95/100\n",
            "15/15 [==============================] - 0s 6ms/step - loss: 0.0850 - accuracy: 0.9744 - val_loss: 0.1009 - val_accuracy: 0.9649\n",
            "Epoch 96/100\n",
            "15/15 [==============================] - 0s 6ms/step - loss: 0.0968 - accuracy: 0.9753 - val_loss: 0.1005 - val_accuracy: 0.9649\n",
            "Epoch 97/100\n",
            "15/15 [==============================] - 0s 7ms/step - loss: 0.0769 - accuracy: 0.9837 - val_loss: 0.1001 - val_accuracy: 0.9649\n",
            "Epoch 98/100\n",
            "15/15 [==============================] - 0s 5ms/step - loss: 0.0936 - accuracy: 0.9723 - val_loss: 0.0997 - val_accuracy: 0.9649\n",
            "Epoch 99/100\n",
            "15/15 [==============================] - 0s 6ms/step - loss: 0.0840 - accuracy: 0.9786 - val_loss: 0.0994 - val_accuracy: 0.9649\n",
            "Epoch 100/100\n",
            "15/15 [==============================] - 0s 5ms/step - loss: 0.0877 - accuracy: 0.9756 - val_loss: 0.0990 - val_accuracy: 0.9649\n"
          ],
          "name": "stdout"
        }
      ]
    },
    {
      "cell_type": "code",
      "metadata": {
        "colab": {
          "base_uri": "https://localhost:8080/"
        },
        "id": "MBY4I65ZNh4i",
        "outputId": "db325609-ded5-4bee-98b2-048abe5f4151"
      },
      "source": [
        "# Evaluating model\n",
        "\n",
        "print('Train Loss & Accuracy:', cmodel.evaluate(A_train,b_train))\n",
        "print('Test Loss & Accuracy:', cmodel.evaluate(A_test,b_test))"
      ],
      "execution_count": 8,
      "outputs": [
        {
          "output_type": "stream",
          "text": [
            "15/15 [==============================] - 0s 2ms/step - loss: 0.0799 - accuracy: 0.9802\n",
            "Train Loss & Accuracy: [0.07988934218883514, 0.9802197813987732]\n",
            "4/4 [==============================] - 0s 4ms/step - loss: 0.0990 - accuracy: 0.9649\n",
            "Test Loss & Accuracy: [0.09898998588323593, 0.9649122953414917]\n"
          ],
          "name": "stdout"
        }
      ]
    },
    {
      "cell_type": "code",
      "metadata": {
        "colab": {
          "base_uri": "https://localhost:8080/",
          "height": 284
        },
        "id": "BAGzHZ_XODbc",
        "outputId": "7e111539-6aeb-4663-8db6-3b7f834676ab"
      },
      "source": [
        "# Plotting model performance\n",
        "\n",
        "plt.plot(clf.history['loss'], label='loss')\n",
        "plt.plot(clf.history['val_loss'], label='val_loss')\n",
        "plt.legend()"
      ],
      "execution_count": 9,
      "outputs": [
        {
          "output_type": "execute_result",
          "data": {
            "text/plain": [
              "<matplotlib.legend.Legend at 0x7f7fc0437910>"
            ]
          },
          "metadata": {
            "tags": []
          },
          "execution_count": 9
        },
        {
          "output_type": "display_data",
          "data": {
            "image/png": "[encoded data removed]",
            "text/plain": [
              "<Figure size 432x288 with 1 Axes>"
            ]
          },
          "metadata": {
            "tags": [],
            "needs_background": "light"
          }
        }
      ]
    },
    {
      "cell_type": "code",
      "metadata": {
        "colab": {
          "base_uri": "https://localhost:8080/",
          "height": 282
        },
        "id": "3y2ewb5JOnWh",
        "outputId": "9f178302-0ef0-4642-9e62-d0a12a7cf1c9"
      },
      "source": [
        "# Plotting model performance\n",
        "\n",
        "plt.plot(clf.history['accuracy'], label='accuracy')\n",
        "plt.plot(clf.history['val_accuracy'], label='val_accuracy')\n",
        "plt.legend()"
      ],
      "execution_count": 10,
      "outputs": [
        {
          "output_type": "execute_result",
          "data": {
            "text/plain": [
              "<matplotlib.legend.Legend at 0x7f7fc0437ed0>"
            ]
          },
          "metadata": {
            "tags": []
          },
          "execution_count": 10
        },
        {
          "output_type": "display_data",
          "data": {
            "image/png": "[encoded data removed]",
            "text/plain": [
              "<Figure size 432x288 with 1 Axes>"
            ]
          },
          "metadata": {
            "tags": [],
            "needs_background": "light"
          }
        }
      ]
    },
    {
      "cell_type": "code",
      "metadata": {
        "id": "7MFy6V1fh7rV",
        "outputId": "158e40fb-c0fa-4e52-a454-405ae5bdc2a9",
        "colab": {
          "base_uri": "https://localhost:8080/"
        }
      },
      "source": [
        "# Making a Prediction\n",
        "\n",
        "prediction = cmodel.predict(A_test)\n",
        "prediction"
      ],
      "execution_count": 12,
      "outputs": [
        {
          "output_type": "execute_result",
          "data": {
            "text/plain": [
              "array([[6.2894356e-01],\n",
              "       [9.9827373e-01],\n",
              "       [9.9977332e-01],\n",
              "       [1.0571543e-01],\n",
              "       [9.9521208e-01],\n",
              "       [9.8445618e-01],\n",
              "       [9.8625141e-01],\n",
              "       [9.9428964e-01],\n",
              "       [9.9815911e-01],\n",
              "       [4.3446125e-04],\n",
              "       [7.0842111e-01],\n",
              "       [9.9978238e-01],\n",
              "       [9.9280083e-01],\n",
              "       [1.5262056e-04],\n",
              "       [9.9984789e-01],\n",
              "       [9.8720294e-01],\n",
              "       [9.7564346e-01],\n",
              "       [9.7214085e-01],\n",
              "       [5.8290404e-01],\n",
              "       [1.2789426e-03],\n",
              "       [3.6774784e-01],\n",
              "       [9.9109143e-01],\n",
              "       [2.9161205e-05],\n",
              "       [9.9172133e-01],\n",
              "       [9.9957031e-01],\n",
              "       [9.9744898e-01],\n",
              "       [9.8725629e-01],\n",
              "       [9.8762894e-01],\n",
              "       [5.5578101e-04],\n",
              "       [7.2483178e-03],\n",
              "       [3.5828992e-04],\n",
              "       [9.9281234e-01],\n",
              "       [9.9807990e-01],\n",
              "       [4.1808134e-01],\n",
              "       [4.1885691e-05],\n",
              "       [3.2047689e-01],\n",
              "       [9.9321258e-01],\n",
              "       [9.7690636e-01],\n",
              "       [2.2930337e-02],\n",
              "       [9.4673651e-01],\n",
              "       [9.1981632e-01],\n",
              "       [9.8890978e-01],\n",
              "       [4.6552248e-08],\n",
              "       [9.1417104e-01],\n",
              "       [8.4463370e-01],\n",
              "       [9.3134475e-01],\n",
              "       [9.7377723e-01],\n",
              "       [9.9933368e-01],\n",
              "       [9.7942919e-01],\n",
              "       [1.0232537e-07],\n",
              "       [8.4126234e-02],\n",
              "       [9.4006187e-01],\n",
              "       [9.9448872e-01],\n",
              "       [9.0445157e-10],\n",
              "       [9.9936312e-01],\n",
              "       [9.7960979e-01],\n",
              "       [9.9095041e-01],\n",
              "       [6.6074237e-02],\n",
              "       [9.9806565e-01],\n",
              "       [9.9129349e-01],\n",
              "       [8.1461668e-01],\n",
              "       [1.1868520e-03],\n",
              "       [5.5086350e-01],\n",
              "       [9.9785453e-01],\n",
              "       [6.7787938e-02],\n",
              "       [1.5019860e-04],\n",
              "       [9.9966359e-01],\n",
              "       [9.3988097e-01],\n",
              "       [6.1622806e-02],\n",
              "       [9.6905029e-01],\n",
              "       [9.8709214e-01],\n",
              "       [9.9272960e-01],\n",
              "       [9.9581856e-01],\n",
              "       [9.8269224e-01],\n",
              "       [9.9917030e-01],\n",
              "       [6.4681740e-06],\n",
              "       [9.9922180e-01],\n",
              "       [9.9374580e-01],\n",
              "       [9.4808030e-01],\n",
              "       [9.9835664e-01],\n",
              "       [1.7945892e-01],\n",
              "       [2.7672093e-06],\n",
              "       [9.9538785e-01],\n",
              "       [4.6397462e-02],\n",
              "       [2.0008251e-02],\n",
              "       [9.9642086e-01],\n",
              "       [9.9740559e-01],\n",
              "       [9.9853218e-01],\n",
              "       [9.7299337e-01],\n",
              "       [9.2569672e-02],\n",
              "       [2.2803545e-03],\n",
              "       [9.9248803e-01],\n",
              "       [9.9999630e-01],\n",
              "       [9.9099147e-01],\n",
              "       [9.9915910e-01],\n",
              "       [1.4055890e-04],\n",
              "       [7.5729780e-02],\n",
              "       [9.9697888e-01],\n",
              "       [9.9988043e-01],\n",
              "       [1.9172354e-03],\n",
              "       [9.9995744e-01],\n",
              "       [9.9990296e-01],\n",
              "       [4.5765832e-02],\n",
              "       [1.3329092e-01],\n",
              "       [1.8414060e-02],\n",
              "       [8.9871997e-01],\n",
              "       [9.9697542e-01],\n",
              "       [7.6313590e-05],\n",
              "       [9.0422440e-01],\n",
              "       [2.3145811e-05],\n",
              "       [8.5056740e-01],\n",
              "       [9.9890709e-01],\n",
              "       [1.3245485e-04],\n",
              "       [9.9361235e-01]], dtype=float32)"
            ]
          },
          "metadata": {
            "tags": []
          },
          "execution_count": 12
        }
      ]
    },
    {
      "cell_type": "code",
      "metadata": {
        "id": "RucoFVneiTdN",
        "outputId": "0f30b721-628d-4e66-faed-1f1f3603a1ec",
        "colab": {
          "base_uri": "https://localhost:8080/"
        }
      },
      "source": [
        "# Rounding predicted values & evaluating model preformace\n",
        "\n",
        "ypred = np.round(prediction).flatten()\n",
        "print(f\"Classification Model Perfomance:\\nLoss: {cmodel.evaluate(A_test,b_test)[0]}\\nAccuracy: {round(cmodel.evaluate(A_test,b_test)[1]*100,2)}%\")"
      ],
      "execution_count": 27,
      "outputs": [
        {
          "output_type": "stream",
          "text": [
            "4/4 [==============================] - 0s 4ms/step - loss: 0.0990 - accuracy: 0.9649\n",
            "4/4 [==============================] - 0s 4ms/step - loss: 0.0990 - accuracy: 0.9649\n",
            "Classification Model Perfomance:\n",
            "Loss: 0.09898998588323593\n",
            "Accuracy: 96.49%\n"
          ],
          "name": "stdout"
        }
      ]
    }
  ]
}