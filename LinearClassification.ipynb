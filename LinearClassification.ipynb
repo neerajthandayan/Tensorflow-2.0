{
  "nbformat": 4,
  "nbformat_minor": 0,
  "metadata": {
    "colab": {
      "name": "LinearClassification.ipynb",
      "provenance": [],
      "authorship_tag": "ABX9TyMx6ZRdCjhbvkMOzDb8g74O",
      "include_colab_link": true
    },
    "kernelspec": {
      "name": "python3",
      "display_name": "Python 3"
    },
    "language_info": {
      "name": "python"
    },
    "accelerator": "GPU"
  },
  "cells": [
    {
      "cell_type": "markdown",
      "metadata": {
        "id": "view-in-github",
        "colab_type": "text"
      },
      "source": [
        "<a href=\"https://colab.research.google.com/github/neerajthandayan/Tensorflow-2.0/blob/main/LinearClassification.ipynb\" target=\"_parent\"><img src=\"https://colab.research.google.com/assets/colab-badge.svg\" alt=\"Open In Colab\"/></a>"
      ]
    },
    {
      "cell_type": "code",
      "metadata": {
        "id": "w8R85AQIGrt1"
      },
      "source": [
        "# Importing Libraries\n",
        "\n",
        "import pandas as pd\n",
        "import numpy as np\n",
        "from sklearn.datasets import load_breast_cancer\n",
        "from sklearn.model_selection import train_test_split\n",
        "from sklearn.preprocessing import StandardScaler\n",
        "import tensorflow as tf\n",
        "import matplotlib.pyplot as plt"
      ],
      "execution_count": 1,
      "outputs": []
    },
    {
      "cell_type": "code",
      "metadata": {
        "id": "Mn1gSP82IdpB",
        "outputId": "9d984a0e-25b0-4d2b-eaeb-17bc74ec6c0f",
        "colab": {
          "base_uri": "https://localhost:8080/"
        }
      },
      "source": [
        "# Data investigation\n",
        "\n",
        "data = load_breast_cancer()\n",
        "print(type(data),data.keys())"
      ],
      "execution_count": 2,
      "outputs": [
        {
          "output_type": "stream",
          "text": [
            "<class 'sklearn.utils.Bunch'> dict_keys(['data', 'target', 'target_names', 'DESCR', 'feature_names', 'filename'])\n"
          ],
          "name": "stdout"
        }
      ]
    },
    {
      "cell_type": "code",
      "metadata": {
        "id": "Knc_f2D7IrIS",
        "outputId": "dfda48a8-81e3-4ff8-d375-abe6c0756795",
        "colab": {
          "base_uri": "https://localhost:8080/"
        }
      },
      "source": [
        "# Checking dimensions of data\n",
        "print(data.data.shape, data.target.shape)"
      ],
      "execution_count": 3,
      "outputs": [
        {
          "output_type": "stream",
          "text": [
            "(569, 30) (569,)\n"
          ],
          "name": "stdout"
        }
      ]
    },
    {
      "cell_type": "code",
      "metadata": {
        "id": "43dnR_66Jd5n"
      },
      "source": [
        "# Creating A and b variables\n",
        "\n",
        "A = data.data\n",
        "b = data.target"
      ],
      "execution_count": 4,
      "outputs": []
    },
    {
      "cell_type": "code",
      "metadata": {
        "id": "TX1Kjm_7JHPv"
      },
      "source": [
        "# Creating train test split\n",
        "A_train,A_test,b_train,b_test = train_test_split(A,b,test_size=0.2,stratify=b)"
      ],
      "execution_count": 5,
      "outputs": []
    },
    {
      "cell_type": "code",
      "metadata": {
        "id": "RDg6Z8LYJ2hg"
      },
      "source": [
        "# Feature Scaling\n",
        "\n",
        "scaler = StandardScaler()\n",
        "A_train = scaler.fit_transform(A_train)\n",
        "A_test = scaler.transform(A_test)"
      ],
      "execution_count": 6,
      "outputs": []
    },
    {
      "cell_type": "code",
      "metadata": {
        "id": "fv39rMmQLLLY",
        "outputId": "73677c2c-9f49-47fd-ca7f-39cea21a1b6a",
        "colab": {
          "base_uri": "https://localhost:8080/"
        }
      },
      "source": [
        "# Constructing model\n",
        "cmodel = tf.keras.models.Sequential()\n",
        "\n",
        "cmodel.add(tf.keras.layers.Dense(1, input_shape=(A_train.shape[1],), activation='sigmoid'))\n",
        "\n",
        "cmodel.compile(optimizer='adam',\n",
        "               loss='binary_crossentropy',\n",
        "               metrics=['accuracy'])\n",
        "\n",
        "# Fitting model\n",
        "clf = cmodel.fit(A_train,b_train, validation_data=(A_test,b_test), epochs=100)"
      ],
      "execution_count": 15,
      "outputs": [
        {
          "output_type": "stream",
          "text": [
            "Epoch 1/100\n",
            "15/15 [==============================] - 3s 22ms/step - loss: 0.8649 - accuracy: 0.4795 - val_loss: 0.8019 - val_accuracy: 0.5175\n",
            "Epoch 2/100\n",
            "15/15 [==============================] - 0s 5ms/step - loss: 0.7645 - accuracy: 0.5963 - val_loss: 0.7252 - val_accuracy: 0.5526\n",
            "Epoch 3/100\n",
            "15/15 [==============================] - 0s 5ms/step - loss: 0.7289 - accuracy: 0.5996 - val_loss: 0.6582 - val_accuracy: 0.6404\n",
            "Epoch 4/100\n",
            "15/15 [==============================] - 0s 5ms/step - loss: 0.6480 - accuracy: 0.6722 - val_loss: 0.6017 - val_accuracy: 0.6579\n",
            "Epoch 5/100\n",
            "15/15 [==============================] - 0s 4ms/step - loss: 0.6019 - accuracy: 0.6927 - val_loss: 0.5525 - val_accuracy: 0.7105\n",
            "Epoch 6/100\n",
            "15/15 [==============================] - 0s 4ms/step - loss: 0.5394 - accuracy: 0.7219 - val_loss: 0.5115 - val_accuracy: 0.7456\n",
            "Epoch 7/100\n",
            "15/15 [==============================] - 0s 4ms/step - loss: 0.5030 - accuracy: 0.7595 - val_loss: 0.4735 - val_accuracy: 0.7719\n",
            "Epoch 8/100\n",
            "15/15 [==============================] - 0s 5ms/step - loss: 0.4408 - accuracy: 0.8019 - val_loss: 0.4408 - val_accuracy: 0.7895\n",
            "Epoch 9/100\n",
            "15/15 [==============================] - 0s 4ms/step - loss: 0.4309 - accuracy: 0.8069 - val_loss: 0.4122 - val_accuracy: 0.8246\n",
            "Epoch 10/100\n",
            "15/15 [==============================] - 0s 5ms/step - loss: 0.4033 - accuracy: 0.8265 - val_loss: 0.3861 - val_accuracy: 0.8596\n",
            "Epoch 11/100\n",
            "15/15 [==============================] - 0s 4ms/step - loss: 0.3669 - accuracy: 0.8504 - val_loss: 0.3631 - val_accuracy: 0.8684\n",
            "Epoch 12/100\n",
            "15/15 [==============================] - 0s 4ms/step - loss: 0.3460 - accuracy: 0.8687 - val_loss: 0.3429 - val_accuracy: 0.8684\n",
            "Epoch 13/100\n",
            "15/15 [==============================] - 0s 5ms/step - loss: 0.3316 - accuracy: 0.8905 - val_loss: 0.3248 - val_accuracy: 0.8772\n",
            "Epoch 14/100\n",
            "15/15 [==============================] - 0s 4ms/step - loss: 0.3057 - accuracy: 0.8969 - val_loss: 0.3088 - val_accuracy: 0.8947\n",
            "Epoch 15/100\n",
            "15/15 [==============================] - 0s 4ms/step - loss: 0.3110 - accuracy: 0.9039 - val_loss: 0.2940 - val_accuracy: 0.9035\n",
            "Epoch 16/100\n",
            "15/15 [==============================] - 0s 4ms/step - loss: 0.2853 - accuracy: 0.9199 - val_loss: 0.2809 - val_accuracy: 0.9035\n",
            "Epoch 17/100\n",
            "15/15 [==============================] - 0s 4ms/step - loss: 0.3018 - accuracy: 0.8958 - val_loss: 0.2688 - val_accuracy: 0.9035\n",
            "Epoch 18/100\n",
            "15/15 [==============================] - 0s 5ms/step - loss: 0.2811 - accuracy: 0.8968 - val_loss: 0.2578 - val_accuracy: 0.9035\n",
            "Epoch 19/100\n",
            "15/15 [==============================] - 0s 4ms/step - loss: 0.2526 - accuracy: 0.9132 - val_loss: 0.2479 - val_accuracy: 0.9035\n",
            "Epoch 20/100\n",
            "15/15 [==============================] - 0s 4ms/step - loss: 0.2425 - accuracy: 0.9300 - val_loss: 0.2383 - val_accuracy: 0.9211\n",
            "Epoch 21/100\n",
            "15/15 [==============================] - 0s 4ms/step - loss: 0.2331 - accuracy: 0.9185 - val_loss: 0.2302 - val_accuracy: 0.9211\n",
            "Epoch 22/100\n",
            "15/15 [==============================] - 0s 4ms/step - loss: 0.2280 - accuracy: 0.9267 - val_loss: 0.2225 - val_accuracy: 0.9386\n",
            "Epoch 23/100\n",
            "15/15 [==============================] - 0s 4ms/step - loss: 0.2169 - accuracy: 0.9167 - val_loss: 0.2158 - val_accuracy: 0.9386\n",
            "Epoch 24/100\n",
            "15/15 [==============================] - 0s 4ms/step - loss: 0.2070 - accuracy: 0.9286 - val_loss: 0.2090 - val_accuracy: 0.9474\n",
            "Epoch 25/100\n",
            "15/15 [==============================] - 0s 4ms/step - loss: 0.1804 - accuracy: 0.9552 - val_loss: 0.2032 - val_accuracy: 0.9474\n",
            "Epoch 26/100\n",
            "15/15 [==============================] - 0s 4ms/step - loss: 0.1932 - accuracy: 0.9431 - val_loss: 0.1976 - val_accuracy: 0.9474\n",
            "Epoch 27/100\n",
            "15/15 [==============================] - 0s 4ms/step - loss: 0.1897 - accuracy: 0.9344 - val_loss: 0.1923 - val_accuracy: 0.9474\n",
            "Epoch 28/100\n",
            "15/15 [==============================] - 0s 4ms/step - loss: 0.1925 - accuracy: 0.9355 - val_loss: 0.1875 - val_accuracy: 0.9649\n",
            "Epoch 29/100\n",
            "15/15 [==============================] - 0s 4ms/step - loss: 0.2132 - accuracy: 0.9229 - val_loss: 0.1828 - val_accuracy: 0.9649\n",
            "Epoch 30/100\n",
            "15/15 [==============================] - 0s 4ms/step - loss: 0.1826 - accuracy: 0.9438 - val_loss: 0.1782 - val_accuracy: 0.9649\n",
            "Epoch 31/100\n",
            "15/15 [==============================] - 0s 4ms/step - loss: 0.1875 - accuracy: 0.9305 - val_loss: 0.1741 - val_accuracy: 0.9649\n",
            "Epoch 32/100\n",
            "15/15 [==============================] - 0s 4ms/step - loss: 0.1629 - accuracy: 0.9548 - val_loss: 0.1702 - val_accuracy: 0.9649\n",
            "Epoch 33/100\n",
            "15/15 [==============================] - 0s 5ms/step - loss: 0.1816 - accuracy: 0.9441 - val_loss: 0.1667 - val_accuracy: 0.9649\n",
            "Epoch 34/100\n",
            "15/15 [==============================] - 0s 4ms/step - loss: 0.1720 - accuracy: 0.9470 - val_loss: 0.1634 - val_accuracy: 0.9649\n",
            "Epoch 35/100\n",
            "15/15 [==============================] - 0s 4ms/step - loss: 0.1740 - accuracy: 0.9447 - val_loss: 0.1601 - val_accuracy: 0.9649\n",
            "Epoch 36/100\n",
            "15/15 [==============================] - 0s 4ms/step - loss: 0.1567 - accuracy: 0.9521 - val_loss: 0.1570 - val_accuracy: 0.9649\n",
            "Epoch 37/100\n",
            "15/15 [==============================] - 0s 4ms/step - loss: 0.1628 - accuracy: 0.9461 - val_loss: 0.1541 - val_accuracy: 0.9649\n",
            "Epoch 38/100\n",
            "15/15 [==============================] - 0s 5ms/step - loss: 0.1788 - accuracy: 0.9359 - val_loss: 0.1514 - val_accuracy: 0.9649\n",
            "Epoch 39/100\n",
            "15/15 [==============================] - 0s 5ms/step - loss: 0.1611 - accuracy: 0.9424 - val_loss: 0.1488 - val_accuracy: 0.9649\n",
            "Epoch 40/100\n",
            "15/15 [==============================] - 0s 5ms/step - loss: 0.1465 - accuracy: 0.9530 - val_loss: 0.1462 - val_accuracy: 0.9737\n",
            "Epoch 41/100\n",
            "15/15 [==============================] - 0s 4ms/step - loss: 0.1543 - accuracy: 0.9530 - val_loss: 0.1440 - val_accuracy: 0.9737\n",
            "Epoch 42/100\n",
            "15/15 [==============================] - 0s 4ms/step - loss: 0.1450 - accuracy: 0.9642 - val_loss: 0.1417 - val_accuracy: 0.9737\n",
            "Epoch 43/100\n",
            "15/15 [==============================] - 0s 4ms/step - loss: 0.1448 - accuracy: 0.9501 - val_loss: 0.1396 - val_accuracy: 0.9737\n",
            "Epoch 44/100\n",
            "15/15 [==============================] - 0s 4ms/step - loss: 0.1498 - accuracy: 0.9405 - val_loss: 0.1376 - val_accuracy: 0.9737\n",
            "Epoch 45/100\n",
            "15/15 [==============================] - 0s 4ms/step - loss: 0.1610 - accuracy: 0.9374 - val_loss: 0.1357 - val_accuracy: 0.9737\n",
            "Epoch 46/100\n",
            "15/15 [==============================] - 0s 4ms/step - loss: 0.1406 - accuracy: 0.9540 - val_loss: 0.1337 - val_accuracy: 0.9737\n",
            "Epoch 47/100\n",
            "15/15 [==============================] - 0s 4ms/step - loss: 0.1331 - accuracy: 0.9640 - val_loss: 0.1319 - val_accuracy: 0.9737\n",
            "Epoch 48/100\n",
            "15/15 [==============================] - 0s 4ms/step - loss: 0.1278 - accuracy: 0.9548 - val_loss: 0.1304 - val_accuracy: 0.9737\n",
            "Epoch 49/100\n",
            "15/15 [==============================] - 0s 4ms/step - loss: 0.1321 - accuracy: 0.9578 - val_loss: 0.1288 - val_accuracy: 0.9737\n",
            "Epoch 50/100\n",
            "15/15 [==============================] - 0s 4ms/step - loss: 0.1238 - accuracy: 0.9646 - val_loss: 0.1271 - val_accuracy: 0.9737\n",
            "Epoch 51/100\n",
            "15/15 [==============================] - 0s 4ms/step - loss: 0.1324 - accuracy: 0.9719 - val_loss: 0.1255 - val_accuracy: 0.9737\n",
            "Epoch 52/100\n",
            "15/15 [==============================] - 0s 4ms/step - loss: 0.1296 - accuracy: 0.9585 - val_loss: 0.1241 - val_accuracy: 0.9737\n",
            "Epoch 53/100\n",
            "15/15 [==============================] - 0s 4ms/step - loss: 0.1403 - accuracy: 0.9592 - val_loss: 0.1227 - val_accuracy: 0.9825\n",
            "Epoch 54/100\n",
            "15/15 [==============================] - 0s 4ms/step - loss: 0.1249 - accuracy: 0.9616 - val_loss: 0.1214 - val_accuracy: 0.9825\n",
            "Epoch 55/100\n",
            "15/15 [==============================] - 0s 4ms/step - loss: 0.1295 - accuracy: 0.9602 - val_loss: 0.1200 - val_accuracy: 0.9825\n",
            "Epoch 56/100\n",
            "15/15 [==============================] - 0s 5ms/step - loss: 0.1269 - accuracy: 0.9652 - val_loss: 0.1187 - val_accuracy: 0.9825\n",
            "Epoch 57/100\n",
            "15/15 [==============================] - 0s 4ms/step - loss: 0.1119 - accuracy: 0.9641 - val_loss: 0.1175 - val_accuracy: 0.9825\n",
            "Epoch 58/100\n",
            "15/15 [==============================] - 0s 5ms/step - loss: 0.1006 - accuracy: 0.9750 - val_loss: 0.1164 - val_accuracy: 0.9825\n",
            "Epoch 59/100\n",
            "15/15 [==============================] - 0s 4ms/step - loss: 0.1127 - accuracy: 0.9661 - val_loss: 0.1152 - val_accuracy: 0.9825\n",
            "Epoch 60/100\n",
            "15/15 [==============================] - 0s 4ms/step - loss: 0.1260 - accuracy: 0.9604 - val_loss: 0.1147 - val_accuracy: 0.9825\n",
            "Epoch 61/100\n",
            "15/15 [==============================] - 0s 4ms/step - loss: 0.1193 - accuracy: 0.9731 - val_loss: 0.1137 - val_accuracy: 0.9825\n",
            "Epoch 62/100\n",
            "15/15 [==============================] - 0s 4ms/step - loss: 0.1286 - accuracy: 0.9668 - val_loss: 0.1125 - val_accuracy: 0.9825\n",
            "Epoch 63/100\n",
            "15/15 [==============================] - 0s 4ms/step - loss: 0.1127 - accuracy: 0.9733 - val_loss: 0.1115 - val_accuracy: 0.9825\n",
            "Epoch 64/100\n",
            "15/15 [==============================] - 0s 4ms/step - loss: 0.1111 - accuracy: 0.9736 - val_loss: 0.1106 - val_accuracy: 0.9825\n",
            "Epoch 65/100\n",
            "15/15 [==============================] - 0s 4ms/step - loss: 0.1083 - accuracy: 0.9719 - val_loss: 0.1096 - val_accuracy: 0.9825\n",
            "Epoch 66/100\n",
            "15/15 [==============================] - 0s 4ms/step - loss: 0.1020 - accuracy: 0.9733 - val_loss: 0.1086 - val_accuracy: 0.9912\n",
            "Epoch 67/100\n",
            "15/15 [==============================] - 0s 4ms/step - loss: 0.1293 - accuracy: 0.9709 - val_loss: 0.1077 - val_accuracy: 0.9912\n",
            "Epoch 68/100\n",
            "15/15 [==============================] - 0s 4ms/step - loss: 0.1276 - accuracy: 0.9629 - val_loss: 0.1068 - val_accuracy: 0.9912\n",
            "Epoch 69/100\n",
            "15/15 [==============================] - 0s 4ms/step - loss: 0.1071 - accuracy: 0.9654 - val_loss: 0.1060 - val_accuracy: 0.9912\n",
            "Epoch 70/100\n",
            "15/15 [==============================] - 0s 4ms/step - loss: 0.1065 - accuracy: 0.9792 - val_loss: 0.1050 - val_accuracy: 0.9912\n",
            "Epoch 71/100\n",
            "15/15 [==============================] - 0s 5ms/step - loss: 0.0977 - accuracy: 0.9848 - val_loss: 0.1041 - val_accuracy: 0.9912\n",
            "Epoch 72/100\n",
            "15/15 [==============================] - 0s 4ms/step - loss: 0.1118 - accuracy: 0.9687 - val_loss: 0.1035 - val_accuracy: 0.9912\n",
            "Epoch 73/100\n",
            "15/15 [==============================] - 0s 4ms/step - loss: 0.1019 - accuracy: 0.9798 - val_loss: 0.1028 - val_accuracy: 0.9912\n",
            "Epoch 74/100\n",
            "15/15 [==============================] - 0s 4ms/step - loss: 0.1013 - accuracy: 0.9759 - val_loss: 0.1017 - val_accuracy: 0.9912\n",
            "Epoch 75/100\n",
            "15/15 [==============================] - 0s 4ms/step - loss: 0.1042 - accuracy: 0.9677 - val_loss: 0.1009 - val_accuracy: 0.9912\n",
            "Epoch 76/100\n",
            "15/15 [==============================] - 0s 4ms/step - loss: 0.1026 - accuracy: 0.9785 - val_loss: 0.1003 - val_accuracy: 0.9912\n",
            "Epoch 77/100\n",
            "15/15 [==============================] - 0s 4ms/step - loss: 0.1104 - accuracy: 0.9672 - val_loss: 0.0996 - val_accuracy: 0.9912\n",
            "Epoch 78/100\n",
            "15/15 [==============================] - 0s 4ms/step - loss: 0.1051 - accuracy: 0.9733 - val_loss: 0.0989 - val_accuracy: 0.9912\n",
            "Epoch 79/100\n",
            "15/15 [==============================] - 0s 4ms/step - loss: 0.1104 - accuracy: 0.9725 - val_loss: 0.0983 - val_accuracy: 0.9912\n",
            "Epoch 80/100\n",
            "15/15 [==============================] - 0s 4ms/step - loss: 0.0946 - accuracy: 0.9824 - val_loss: 0.0977 - val_accuracy: 0.9912\n",
            "Epoch 81/100\n",
            "15/15 [==============================] - 0s 4ms/step - loss: 0.0950 - accuracy: 0.9739 - val_loss: 0.0971 - val_accuracy: 0.9912\n",
            "Epoch 82/100\n",
            "15/15 [==============================] - 0s 4ms/step - loss: 0.1027 - accuracy: 0.9695 - val_loss: 0.0966 - val_accuracy: 0.9912\n",
            "Epoch 83/100\n",
            "15/15 [==============================] - 0s 4ms/step - loss: 0.1014 - accuracy: 0.9768 - val_loss: 0.0959 - val_accuracy: 0.9912\n",
            "Epoch 84/100\n",
            "15/15 [==============================] - 0s 5ms/step - loss: 0.1021 - accuracy: 0.9626 - val_loss: 0.0953 - val_accuracy: 0.9912\n",
            "Epoch 85/100\n",
            "15/15 [==============================] - 0s 4ms/step - loss: 0.0876 - accuracy: 0.9761 - val_loss: 0.0946 - val_accuracy: 0.9912\n",
            "Epoch 86/100\n",
            "15/15 [==============================] - 0s 5ms/step - loss: 0.0990 - accuracy: 0.9761 - val_loss: 0.0941 - val_accuracy: 0.9912\n",
            "Epoch 87/100\n",
            "15/15 [==============================] - 0s 5ms/step - loss: 0.0935 - accuracy: 0.9750 - val_loss: 0.0936 - val_accuracy: 0.9825\n",
            "Epoch 88/100\n",
            "15/15 [==============================] - 0s 4ms/step - loss: 0.1073 - accuracy: 0.9760 - val_loss: 0.0931 - val_accuracy: 0.9825\n",
            "Epoch 89/100\n",
            "15/15 [==============================] - 0s 4ms/step - loss: 0.0922 - accuracy: 0.9753 - val_loss: 0.0925 - val_accuracy: 0.9825\n",
            "Epoch 90/100\n",
            "15/15 [==============================] - 0s 4ms/step - loss: 0.0927 - accuracy: 0.9780 - val_loss: 0.0921 - val_accuracy: 0.9825\n",
            "Epoch 91/100\n",
            "15/15 [==============================] - 0s 4ms/step - loss: 0.1129 - accuracy: 0.9735 - val_loss: 0.0917 - val_accuracy: 0.9825\n",
            "Epoch 92/100\n",
            "15/15 [==============================] - 0s 4ms/step - loss: 0.0931 - accuracy: 0.9849 - val_loss: 0.0912 - val_accuracy: 0.9825\n",
            "Epoch 93/100\n",
            "15/15 [==============================] - 0s 4ms/step - loss: 0.1029 - accuracy: 0.9777 - val_loss: 0.0908 - val_accuracy: 0.9825\n",
            "Epoch 94/100\n",
            "15/15 [==============================] - 0s 4ms/step - loss: 0.0849 - accuracy: 0.9833 - val_loss: 0.0903 - val_accuracy: 0.9825\n",
            "Epoch 95/100\n",
            "15/15 [==============================] - 0s 4ms/step - loss: 0.1081 - accuracy: 0.9710 - val_loss: 0.0899 - val_accuracy: 0.9825\n",
            "Epoch 96/100\n",
            "15/15 [==============================] - 0s 4ms/step - loss: 0.0911 - accuracy: 0.9806 - val_loss: 0.0894 - val_accuracy: 0.9912\n",
            "Epoch 97/100\n",
            "15/15 [==============================] - 0s 4ms/step - loss: 0.0861 - accuracy: 0.9826 - val_loss: 0.0889 - val_accuracy: 0.9912\n",
            "Epoch 98/100\n",
            "15/15 [==============================] - 0s 4ms/step - loss: 0.1057 - accuracy: 0.9792 - val_loss: 0.0887 - val_accuracy: 0.9825\n",
            "Epoch 99/100\n",
            "15/15 [==============================] - 0s 4ms/step - loss: 0.0835 - accuracy: 0.9860 - val_loss: 0.0883 - val_accuracy: 0.9825\n",
            "Epoch 100/100\n",
            "15/15 [==============================] - 0s 4ms/step - loss: 0.0789 - accuracy: 0.9917 - val_loss: 0.0879 - val_accuracy: 0.9825\n"
          ],
          "name": "stdout"
        }
      ]
    },
    {
      "cell_type": "code",
      "metadata": {
        "id": "MBY4I65ZNh4i",
        "outputId": "9f850b0b-7a42-4fe7-800b-a6ef62e4e173",
        "colab": {
          "base_uri": "https://localhost:8080/"
        }
      },
      "source": [
        "# Evaluating model\n",
        "\n",
        "print('Train Accuracy:', cmodel.evaluate(A_train,b_train))\n",
        "print('Test Accuracy:', cmodel.evaluate(A_test,b_test))"
      ],
      "execution_count": 17,
      "outputs": [
        {
          "output_type": "stream",
          "text": [
            "15/15 [==============================] - 0s 2ms/step - loss: 0.0907 - accuracy: 0.9846\n",
            "Train Accuracy: [0.0907127782702446, 0.9846153855323792]\n",
            "4/4 [==============================] - 0s 2ms/step - loss: 0.0879 - accuracy: 0.9825\n",
            "Test Accuracy: [0.08791214972734451, 0.9824561476707458]\n"
          ],
          "name": "stdout"
        }
      ]
    },
    {
      "cell_type": "code",
      "metadata": {
        "id": "BAGzHZ_XODbc",
        "outputId": "a3b1df87-26d7-4f41-ee54-6b330cdfa7ae",
        "colab": {
          "base_uri": "https://localhost:8080/",
          "height": 282
        }
      },
      "source": [
        "# Plotting model performance\n",
        "\n",
        "plt.plot(clf.history['loss'], label='loss')\n",
        "plt.plot(clf.history['val_loss'], label='val_loss')\n",
        "plt.legend()"
      ],
      "execution_count": 22,
      "outputs": [
        {
          "output_type": "execute_result",
          "data": {
            "text/plain": [
              "<matplotlib.legend.Legend at 0x7fc1201274d0>"
            ]
          },
          "metadata": {
            "tags": []
          },
          "execution_count": 22
        },
        {
          "output_type": "display_data",
          "data": {
            "image/png": "[encoded data removed]",
            "text/plain": [
              "<Figure size 432x288 with 1 Axes>"
            ]
          },
          "metadata": {
            "tags": [],
            "needs_background": "light"
          }
        }
      ]
    },
    {
      "cell_type": "code",
      "metadata": {
        "id": "3y2ewb5JOnWh",
        "outputId": "e2b69687-bd10-4cc3-e40e-6ecf472415ac",
        "colab": {
          "base_uri": "https://localhost:8080/",
          "height": 282
        }
      },
      "source": [
        "# Plotting model performance\n",
        "\n",
        "plt.plot(clf.history['accuracy'], label='accuracy')\n",
        "plt.plot(clf.history['val_accuracy'], label='val_accuracy')\n",
        "plt.legend()"
      ],
      "execution_count": 23,
      "outputs": [
        {
          "output_type": "execute_result",
          "data": {
            "text/plain": [
              "<matplotlib.legend.Legend at 0x7fc1200a4950>"
            ]
          },
          "metadata": {
            "tags": []
          },
          "execution_count": 23
        },
        {
          "output_type": "display_data",
          "data": {
            "image/png": "[encoded data removed]",
            "text/plain": [
              "<Figure size 432x288 with 1 Axes>"
            ]
          },
          "metadata": {
            "tags": [],
            "needs_background": "light"
          }
        }
      ]
    }
  ]
}