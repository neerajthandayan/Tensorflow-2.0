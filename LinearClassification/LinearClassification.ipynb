{
  "nbformat": 4,
  "nbformat_minor": 0,
  "metadata": {
    "colab": {
      "name": "LinearClassification.ipynb",
      "provenance": [],
      "authorship_tag": "ABX9TyNkxwtuXOeBIa3dqZphq3be",
      "include_colab_link": true
    },
    "kernelspec": {
      "name": "python3",
      "display_name": "Python 3"
    },
    "language_info": {
      "name": "python"
    },
    "accelerator": "GPU"
  },
  "cells": [
    {
      "cell_type": "markdown",
      "metadata": {
        "id": "view-in-github",
        "colab_type": "text"
      },
      "source": [
        "<a href=\"https://colab.research.google.com/github/neerajthandayan/Tensorflow-2.0/blob/main/LinearClassification.ipynb\" target=\"_parent\"><img src=\"https://colab.research.google.com/assets/colab-badge.svg\" alt=\"Open In Colab\"/></a>"
      ]
    },
    {
      "cell_type": "code",
      "metadata": {
        "id": "w8R85AQIGrt1"
      },
      "source": [
        "# Importing Libraries\n",
        "\n",
        "import pandas as pd\n",
        "import numpy as np\n",
        "from sklearn.datasets import load_breast_cancer\n",
        "from sklearn.model_selection import train_test_split\n",
        "from sklearn.preprocessing import StandardScaler\n",
        "import tensorflow as tf\n",
        "import matplotlib.pyplot as plt"
      ],
      "execution_count": 31,
      "outputs": []
    },
    {
      "cell_type": "code",
      "metadata": {
        "colab": {
          "base_uri": "https://localhost:8080/"
        },
        "id": "Mn1gSP82IdpB",
        "outputId": "1fec4eb3-4eac-41a0-ee4a-1a41fc877b21"
      },
      "source": [
        "# Data investigation\n",
        "\n",
        "data = load_breast_cancer()\n",
        "print(type(data),data.keys())"
      ],
      "execution_count": 32,
      "outputs": [
        {
          "output_type": "stream",
          "text": [
            "<class 'sklearn.utils.Bunch'> dict_keys(['data', 'target', 'target_names', 'DESCR', 'feature_names', 'filename'])\n"
          ],
          "name": "stdout"
        }
      ]
    },
    {
      "cell_type": "code",
      "metadata": {
        "colab": {
          "base_uri": "https://localhost:8080/"
        },
        "id": "Knc_f2D7IrIS",
        "outputId": "15785230-948e-4c20-9a78-ade29df31baf"
      },
      "source": [
        "# Checking dimensions of data\n",
        "print(data.data.shape, data.target.shape)"
      ],
      "execution_count": 33,
      "outputs": [
        {
          "output_type": "stream",
          "text": [
            "(569, 30) (569,)\n"
          ],
          "name": "stdout"
        }
      ]
    },
    {
      "cell_type": "code",
      "metadata": {
        "id": "43dnR_66Jd5n"
      },
      "source": [
        "# Creating A and b variables\n",
        "\n",
        "A = data.data\n",
        "b = data.target"
      ],
      "execution_count": 34,
      "outputs": []
    },
    {
      "cell_type": "code",
      "metadata": {
        "id": "TX1Kjm_7JHPv"
      },
      "source": [
        "# Creating train test split\n",
        "A_train,A_test,b_train,b_test = train_test_split(A,b,test_size=0.2,stratify=b)"
      ],
      "execution_count": 35,
      "outputs": []
    },
    {
      "cell_type": "code",
      "metadata": {
        "id": "RDg6Z8LYJ2hg"
      },
      "source": [
        "# Feature Scaling\n",
        "\n",
        "scaler = StandardScaler()\n",
        "A_train = scaler.fit_transform(A_train)\n",
        "A_test = scaler.transform(A_test)"
      ],
      "execution_count": 36,
      "outputs": []
    },
    {
      "cell_type": "code",
      "metadata": {
        "colab": {
          "base_uri": "https://localhost:8080/"
        },
        "id": "fv39rMmQLLLY",
        "outputId": "cf5c79fd-29db-4779-aa87-58756561cef6"
      },
      "source": [
        "# Constructing model\n",
        "cmodel = tf.keras.models.Sequential()\n",
        "\n",
        "cmodel.add(tf.keras.layers.Dense(1, input_shape=(A_train.shape[1],), activation='sigmoid'))\n",
        "\n",
        "cmodel.compile(optimizer='adam',\n",
        "               loss='binary_crossentropy',\n",
        "               metrics=['accuracy'])\n",
        "\n",
        "# Fitting model\n",
        "clf = cmodel.fit(A_train,b_train, validation_data=(A_test,b_test), epochs=100)"
      ],
      "execution_count": 37,
      "outputs": [
        {
          "output_type": "stream",
          "text": [
            "Epoch 1/100\n",
            "15/15 [==============================] - 1s 18ms/step - loss: 0.8767 - accuracy: 0.4734 - val_loss: 0.7786 - val_accuracy: 0.5000\n",
            "Epoch 2/100\n",
            "15/15 [==============================] - 0s 7ms/step - loss: 0.7705 - accuracy: 0.5510 - val_loss: 0.6936 - val_accuracy: 0.5702\n",
            "Epoch 3/100\n",
            "15/15 [==============================] - 0s 6ms/step - loss: 0.6944 - accuracy: 0.6208 - val_loss: 0.6202 - val_accuracy: 0.6404\n",
            "Epoch 4/100\n",
            "15/15 [==============================] - 0s 6ms/step - loss: 0.6667 - accuracy: 0.6533 - val_loss: 0.5570 - val_accuracy: 0.6754\n",
            "Epoch 5/100\n",
            "15/15 [==============================] - 0s 6ms/step - loss: 0.6193 - accuracy: 0.6938 - val_loss: 0.5066 - val_accuracy: 0.7281\n",
            "Epoch 6/100\n",
            "15/15 [==============================] - 0s 6ms/step - loss: 0.5286 - accuracy: 0.7570 - val_loss: 0.4635 - val_accuracy: 0.7807\n",
            "Epoch 7/100\n",
            "15/15 [==============================] - 0s 6ms/step - loss: 0.4911 - accuracy: 0.7812 - val_loss: 0.4279 - val_accuracy: 0.8421\n",
            "Epoch 8/100\n",
            "15/15 [==============================] - 0s 6ms/step - loss: 0.4593 - accuracy: 0.7873 - val_loss: 0.3961 - val_accuracy: 0.8596\n",
            "Epoch 9/100\n",
            "15/15 [==============================] - 0s 6ms/step - loss: 0.4331 - accuracy: 0.8267 - val_loss: 0.3697 - val_accuracy: 0.8684\n",
            "Epoch 10/100\n",
            "15/15 [==============================] - 0s 6ms/step - loss: 0.3991 - accuracy: 0.8702 - val_loss: 0.3467 - val_accuracy: 0.8860\n",
            "Epoch 11/100\n",
            "15/15 [==============================] - 0s 7ms/step - loss: 0.3693 - accuracy: 0.8814 - val_loss: 0.3269 - val_accuracy: 0.8947\n",
            "Epoch 12/100\n",
            "15/15 [==============================] - 0s 5ms/step - loss: 0.3514 - accuracy: 0.8728 - val_loss: 0.3095 - val_accuracy: 0.9211\n",
            "Epoch 13/100\n",
            "15/15 [==============================] - 0s 6ms/step - loss: 0.3230 - accuracy: 0.8960 - val_loss: 0.2939 - val_accuracy: 0.9386\n",
            "Epoch 14/100\n",
            "15/15 [==============================] - 0s 8ms/step - loss: 0.3083 - accuracy: 0.8970 - val_loss: 0.2814 - val_accuracy: 0.9386\n",
            "Epoch 15/100\n",
            "15/15 [==============================] - 0s 6ms/step - loss: 0.2927 - accuracy: 0.9053 - val_loss: 0.2691 - val_accuracy: 0.9474\n",
            "Epoch 16/100\n",
            "15/15 [==============================] - 0s 6ms/step - loss: 0.3167 - accuracy: 0.9017 - val_loss: 0.2582 - val_accuracy: 0.9474\n",
            "Epoch 17/100\n",
            "15/15 [==============================] - 0s 6ms/step - loss: 0.2725 - accuracy: 0.9165 - val_loss: 0.2478 - val_accuracy: 0.9474\n",
            "Epoch 18/100\n",
            "15/15 [==============================] - 0s 6ms/step - loss: 0.2858 - accuracy: 0.9084 - val_loss: 0.2398 - val_accuracy: 0.9474\n",
            "Epoch 19/100\n",
            "15/15 [==============================] - 0s 6ms/step - loss: 0.2590 - accuracy: 0.9184 - val_loss: 0.2317 - val_accuracy: 0.9561\n",
            "Epoch 20/100\n",
            "15/15 [==============================] - 0s 6ms/step - loss: 0.2555 - accuracy: 0.9031 - val_loss: 0.2243 - val_accuracy: 0.9649\n",
            "Epoch 21/100\n",
            "15/15 [==============================] - 0s 6ms/step - loss: 0.2602 - accuracy: 0.9227 - val_loss: 0.2174 - val_accuracy: 0.9649\n",
            "Epoch 22/100\n",
            "15/15 [==============================] - 0s 6ms/step - loss: 0.2411 - accuracy: 0.9197 - val_loss: 0.2104 - val_accuracy: 0.9561\n",
            "Epoch 23/100\n",
            "15/15 [==============================] - 0s 5ms/step - loss: 0.2222 - accuracy: 0.9347 - val_loss: 0.2047 - val_accuracy: 0.9561\n",
            "Epoch 24/100\n",
            "15/15 [==============================] - 0s 6ms/step - loss: 0.2183 - accuracy: 0.9316 - val_loss: 0.2006 - val_accuracy: 0.9561\n",
            "Epoch 25/100\n",
            "15/15 [==============================] - 0s 5ms/step - loss: 0.2174 - accuracy: 0.9299 - val_loss: 0.1952 - val_accuracy: 0.9561\n",
            "Epoch 26/100\n",
            "15/15 [==============================] - 0s 5ms/step - loss: 0.2187 - accuracy: 0.9245 - val_loss: 0.1904 - val_accuracy: 0.9561\n",
            "Epoch 27/100\n",
            "15/15 [==============================] - 0s 6ms/step - loss: 0.2084 - accuracy: 0.9307 - val_loss: 0.1855 - val_accuracy: 0.9561\n",
            "Epoch 28/100\n",
            "15/15 [==============================] - 0s 5ms/step - loss: 0.2028 - accuracy: 0.9380 - val_loss: 0.1811 - val_accuracy: 0.9561\n",
            "Epoch 29/100\n",
            "15/15 [==============================] - 0s 6ms/step - loss: 0.1921 - accuracy: 0.9453 - val_loss: 0.1775 - val_accuracy: 0.9561\n",
            "Epoch 30/100\n",
            "15/15 [==============================] - 0s 5ms/step - loss: 0.1894 - accuracy: 0.9453 - val_loss: 0.1738 - val_accuracy: 0.9561\n",
            "Epoch 31/100\n",
            "15/15 [==============================] - 0s 6ms/step - loss: 0.1900 - accuracy: 0.9473 - val_loss: 0.1698 - val_accuracy: 0.9561\n",
            "Epoch 32/100\n",
            "15/15 [==============================] - 0s 6ms/step - loss: 0.1694 - accuracy: 0.9630 - val_loss: 0.1659 - val_accuracy: 0.9561\n",
            "Epoch 33/100\n",
            "15/15 [==============================] - 0s 7ms/step - loss: 0.1931 - accuracy: 0.9502 - val_loss: 0.1626 - val_accuracy: 0.9649\n",
            "Epoch 34/100\n",
            "15/15 [==============================] - 0s 6ms/step - loss: 0.1605 - accuracy: 0.9676 - val_loss: 0.1591 - val_accuracy: 0.9649\n",
            "Epoch 35/100\n",
            "15/15 [==============================] - 0s 6ms/step - loss: 0.1774 - accuracy: 0.9532 - val_loss: 0.1566 - val_accuracy: 0.9649\n",
            "Epoch 36/100\n",
            "15/15 [==============================] - 0s 6ms/step - loss: 0.1518 - accuracy: 0.9671 - val_loss: 0.1536 - val_accuracy: 0.9649\n",
            "Epoch 37/100\n",
            "15/15 [==============================] - 0s 6ms/step - loss: 0.1681 - accuracy: 0.9567 - val_loss: 0.1507 - val_accuracy: 0.9649\n",
            "Epoch 38/100\n",
            "15/15 [==============================] - 0s 6ms/step - loss: 0.1613 - accuracy: 0.9674 - val_loss: 0.1480 - val_accuracy: 0.9649\n",
            "Epoch 39/100\n",
            "15/15 [==============================] - 0s 6ms/step - loss: 0.1632 - accuracy: 0.9721 - val_loss: 0.1454 - val_accuracy: 0.9649\n",
            "Epoch 40/100\n",
            "15/15 [==============================] - 0s 6ms/step - loss: 0.1697 - accuracy: 0.9579 - val_loss: 0.1435 - val_accuracy: 0.9649\n",
            "Epoch 41/100\n",
            "15/15 [==============================] - 0s 5ms/step - loss: 0.1535 - accuracy: 0.9634 - val_loss: 0.1413 - val_accuracy: 0.9649\n",
            "Epoch 42/100\n",
            "15/15 [==============================] - 0s 6ms/step - loss: 0.1545 - accuracy: 0.9622 - val_loss: 0.1392 - val_accuracy: 0.9649\n",
            "Epoch 43/100\n",
            "15/15 [==============================] - 0s 5ms/step - loss: 0.1502 - accuracy: 0.9562 - val_loss: 0.1373 - val_accuracy: 0.9649\n",
            "Epoch 44/100\n",
            "15/15 [==============================] - 0s 6ms/step - loss: 0.1479 - accuracy: 0.9584 - val_loss: 0.1352 - val_accuracy: 0.9649\n",
            "Epoch 45/100\n",
            "15/15 [==============================] - 0s 6ms/step - loss: 0.1408 - accuracy: 0.9724 - val_loss: 0.1328 - val_accuracy: 0.9649\n",
            "Epoch 46/100\n",
            "15/15 [==============================] - 0s 6ms/step - loss: 0.1475 - accuracy: 0.9775 - val_loss: 0.1313 - val_accuracy: 0.9649\n",
            "Epoch 47/100\n",
            "15/15 [==============================] - 0s 6ms/step - loss: 0.1375 - accuracy: 0.9720 - val_loss: 0.1297 - val_accuracy: 0.9649\n",
            "Epoch 48/100\n",
            "15/15 [==============================] - 0s 6ms/step - loss: 0.1481 - accuracy: 0.9700 - val_loss: 0.1280 - val_accuracy: 0.9649\n",
            "Epoch 49/100\n",
            "15/15 [==============================] - 0s 6ms/step - loss: 0.1418 - accuracy: 0.9717 - val_loss: 0.1265 - val_accuracy: 0.9649\n",
            "Epoch 50/100\n",
            "15/15 [==============================] - 0s 6ms/step - loss: 0.1308 - accuracy: 0.9750 - val_loss: 0.1252 - val_accuracy: 0.9737\n",
            "Epoch 51/100\n",
            "15/15 [==============================] - 0s 6ms/step - loss: 0.1385 - accuracy: 0.9732 - val_loss: 0.1240 - val_accuracy: 0.9737\n",
            "Epoch 52/100\n",
            "15/15 [==============================] - 0s 6ms/step - loss: 0.1295 - accuracy: 0.9754 - val_loss: 0.1223 - val_accuracy: 0.9737\n",
            "Epoch 53/100\n",
            "15/15 [==============================] - 0s 6ms/step - loss: 0.1417 - accuracy: 0.9580 - val_loss: 0.1210 - val_accuracy: 0.9737\n",
            "Epoch 54/100\n",
            "15/15 [==============================] - 0s 6ms/step - loss: 0.1336 - accuracy: 0.9718 - val_loss: 0.1192 - val_accuracy: 0.9737\n",
            "Epoch 55/100\n",
            "15/15 [==============================] - 0s 6ms/step - loss: 0.1360 - accuracy: 0.9694 - val_loss: 0.1182 - val_accuracy: 0.9737\n",
            "Epoch 56/100\n",
            "15/15 [==============================] - 0s 6ms/step - loss: 0.1208 - accuracy: 0.9757 - val_loss: 0.1168 - val_accuracy: 0.9737\n",
            "Epoch 57/100\n",
            "15/15 [==============================] - 0s 6ms/step - loss: 0.1241 - accuracy: 0.9740 - val_loss: 0.1158 - val_accuracy: 0.9737\n",
            "Epoch 58/100\n",
            "15/15 [==============================] - 0s 6ms/step - loss: 0.1166 - accuracy: 0.9686 - val_loss: 0.1146 - val_accuracy: 0.9737\n",
            "Epoch 59/100\n",
            "15/15 [==============================] - 0s 6ms/step - loss: 0.1284 - accuracy: 0.9727 - val_loss: 0.1137 - val_accuracy: 0.9737\n",
            "Epoch 60/100\n",
            "15/15 [==============================] - 0s 6ms/step - loss: 0.1248 - accuracy: 0.9708 - val_loss: 0.1126 - val_accuracy: 0.9737\n",
            "Epoch 61/100\n",
            "15/15 [==============================] - 0s 7ms/step - loss: 0.1297 - accuracy: 0.9685 - val_loss: 0.1113 - val_accuracy: 0.9737\n",
            "Epoch 62/100\n",
            "15/15 [==============================] - 0s 6ms/step - loss: 0.1218 - accuracy: 0.9646 - val_loss: 0.1100 - val_accuracy: 0.9737\n",
            "Epoch 63/100\n",
            "15/15 [==============================] - 0s 6ms/step - loss: 0.1132 - accuracy: 0.9764 - val_loss: 0.1091 - val_accuracy: 0.9737\n",
            "Epoch 64/100\n",
            "15/15 [==============================] - 0s 7ms/step - loss: 0.1167 - accuracy: 0.9752 - val_loss: 0.1081 - val_accuracy: 0.9737\n",
            "Epoch 65/100\n",
            "15/15 [==============================] - 0s 6ms/step - loss: 0.1143 - accuracy: 0.9787 - val_loss: 0.1071 - val_accuracy: 0.9737\n",
            "Epoch 66/100\n",
            "15/15 [==============================] - 0s 6ms/step - loss: 0.1057 - accuracy: 0.9794 - val_loss: 0.1064 - val_accuracy: 0.9737\n",
            "Epoch 67/100\n",
            "15/15 [==============================] - 0s 6ms/step - loss: 0.1216 - accuracy: 0.9693 - val_loss: 0.1055 - val_accuracy: 0.9737\n",
            "Epoch 68/100\n",
            "15/15 [==============================] - 0s 6ms/step - loss: 0.1241 - accuracy: 0.9675 - val_loss: 0.1046 - val_accuracy: 0.9737\n",
            "Epoch 69/100\n",
            "15/15 [==============================] - 0s 6ms/step - loss: 0.1114 - accuracy: 0.9696 - val_loss: 0.1038 - val_accuracy: 0.9737\n",
            "Epoch 70/100\n",
            "15/15 [==============================] - 0s 6ms/step - loss: 0.1165 - accuracy: 0.9692 - val_loss: 0.1030 - val_accuracy: 0.9737\n",
            "Epoch 71/100\n",
            "15/15 [==============================] - 0s 6ms/step - loss: 0.1083 - accuracy: 0.9758 - val_loss: 0.1020 - val_accuracy: 0.9737\n",
            "Epoch 72/100\n",
            "15/15 [==============================] - 0s 6ms/step - loss: 0.1079 - accuracy: 0.9774 - val_loss: 0.1011 - val_accuracy: 0.9737\n",
            "Epoch 73/100\n",
            "15/15 [==============================] - 0s 6ms/step - loss: 0.1169 - accuracy: 0.9723 - val_loss: 0.1002 - val_accuracy: 0.9737\n",
            "Epoch 74/100\n",
            "15/15 [==============================] - 0s 6ms/step - loss: 0.1132 - accuracy: 0.9706 - val_loss: 0.0991 - val_accuracy: 0.9737\n",
            "Epoch 75/100\n",
            "15/15 [==============================] - 0s 6ms/step - loss: 0.1049 - accuracy: 0.9743 - val_loss: 0.0987 - val_accuracy: 0.9737\n",
            "Epoch 76/100\n",
            "15/15 [==============================] - 0s 6ms/step - loss: 0.1104 - accuracy: 0.9720 - val_loss: 0.0979 - val_accuracy: 0.9737\n",
            "Epoch 77/100\n",
            "15/15 [==============================] - 0s 6ms/step - loss: 0.1073 - accuracy: 0.9779 - val_loss: 0.0971 - val_accuracy: 0.9737\n",
            "Epoch 78/100\n",
            "15/15 [==============================] - 0s 6ms/step - loss: 0.1193 - accuracy: 0.9607 - val_loss: 0.0968 - val_accuracy: 0.9737\n",
            "Epoch 79/100\n",
            "15/15 [==============================] - 0s 6ms/step - loss: 0.1027 - accuracy: 0.9776 - val_loss: 0.0958 - val_accuracy: 0.9737\n",
            "Epoch 80/100\n",
            "15/15 [==============================] - 0s 6ms/step - loss: 0.1004 - accuracy: 0.9782 - val_loss: 0.0949 - val_accuracy: 0.9737\n",
            "Epoch 81/100\n",
            "15/15 [==============================] - 0s 7ms/step - loss: 0.1142 - accuracy: 0.9757 - val_loss: 0.0941 - val_accuracy: 0.9737\n",
            "Epoch 82/100\n",
            "15/15 [==============================] - 0s 6ms/step - loss: 0.0955 - accuracy: 0.9739 - val_loss: 0.0934 - val_accuracy: 0.9737\n",
            "Epoch 83/100\n",
            "15/15 [==============================] - 0s 6ms/step - loss: 0.0974 - accuracy: 0.9785 - val_loss: 0.0925 - val_accuracy: 0.9737\n",
            "Epoch 84/100\n",
            "15/15 [==============================] - 0s 6ms/step - loss: 0.1053 - accuracy: 0.9782 - val_loss: 0.0925 - val_accuracy: 0.9737\n",
            "Epoch 85/100\n",
            "15/15 [==============================] - 0s 6ms/step - loss: 0.0975 - accuracy: 0.9774 - val_loss: 0.0918 - val_accuracy: 0.9737\n",
            "Epoch 86/100\n",
            "15/15 [==============================] - 0s 6ms/step - loss: 0.1067 - accuracy: 0.9732 - val_loss: 0.0915 - val_accuracy: 0.9737\n",
            "Epoch 87/100\n",
            "15/15 [==============================] - 0s 6ms/step - loss: 0.0980 - accuracy: 0.9773 - val_loss: 0.0908 - val_accuracy: 0.9737\n",
            "Epoch 88/100\n",
            "15/15 [==============================] - 0s 6ms/step - loss: 0.0915 - accuracy: 0.9793 - val_loss: 0.0903 - val_accuracy: 0.9737\n",
            "Epoch 89/100\n",
            "15/15 [==============================] - 0s 6ms/step - loss: 0.0971 - accuracy: 0.9732 - val_loss: 0.0900 - val_accuracy: 0.9737\n",
            "Epoch 90/100\n",
            "15/15 [==============================] - 0s 6ms/step - loss: 0.0910 - accuracy: 0.9756 - val_loss: 0.0893 - val_accuracy: 0.9737\n",
            "Epoch 91/100\n",
            "15/15 [==============================] - 0s 7ms/step - loss: 0.1080 - accuracy: 0.9739 - val_loss: 0.0884 - val_accuracy: 0.9737\n",
            "Epoch 92/100\n",
            "15/15 [==============================] - 0s 6ms/step - loss: 0.0917 - accuracy: 0.9765 - val_loss: 0.0878 - val_accuracy: 0.9737\n",
            "Epoch 93/100\n",
            "15/15 [==============================] - 0s 6ms/step - loss: 0.0830 - accuracy: 0.9824 - val_loss: 0.0873 - val_accuracy: 0.9737\n",
            "Epoch 94/100\n",
            "15/15 [==============================] - 0s 6ms/step - loss: 0.0864 - accuracy: 0.9865 - val_loss: 0.0868 - val_accuracy: 0.9737\n",
            "Epoch 95/100\n",
            "15/15 [==============================] - 0s 6ms/step - loss: 0.1024 - accuracy: 0.9749 - val_loss: 0.0865 - val_accuracy: 0.9737\n",
            "Epoch 96/100\n",
            "15/15 [==============================] - 0s 6ms/step - loss: 0.0938 - accuracy: 0.9794 - val_loss: 0.0866 - val_accuracy: 0.9737\n",
            "Epoch 97/100\n",
            "15/15 [==============================] - 0s 6ms/step - loss: 0.1147 - accuracy: 0.9725 - val_loss: 0.0869 - val_accuracy: 0.9737\n",
            "Epoch 98/100\n",
            "15/15 [==============================] - 0s 6ms/step - loss: 0.0838 - accuracy: 0.9831 - val_loss: 0.0863 - val_accuracy: 0.9737\n",
            "Epoch 99/100\n",
            "15/15 [==============================] - 0s 6ms/step - loss: 0.0855 - accuracy: 0.9813 - val_loss: 0.0858 - val_accuracy: 0.9737\n",
            "Epoch 100/100\n",
            "15/15 [==============================] - 0s 6ms/step - loss: 0.0872 - accuracy: 0.9828 - val_loss: 0.0852 - val_accuracy: 0.9737\n"
          ],
          "name": "stdout"
        }
      ]
    },
    {
      "cell_type": "code",
      "metadata": {
        "colab": {
          "base_uri": "https://localhost:8080/"
        },
        "id": "MBY4I65ZNh4i",
        "outputId": "6d83f364-a5c5-43a9-c8f2-67a66177c941"
      },
      "source": [
        "# Evaluating model\n",
        "\n",
        "print('Train Loss & Accuracy:', cmodel.evaluate(A_train,b_train))\n",
        "print('Test Loss & Accuracy:', cmodel.evaluate(A_test,b_test))"
      ],
      "execution_count": 38,
      "outputs": [
        {
          "output_type": "stream",
          "text": [
            "15/15 [==============================] - 0s 2ms/step - loss: 0.0936 - accuracy: 0.9780\n",
            "Train Loss & Accuracy: [0.09359262138605118, 0.9780219793319702]\n",
            "4/4 [==============================] - 0s 4ms/step - loss: 0.0852 - accuracy: 0.9737\n",
            "Test Loss & Accuracy: [0.08524789661169052, 0.9736841917037964]\n"
          ],
          "name": "stdout"
        }
      ]
    },
    {
      "cell_type": "code",
      "metadata": {
        "colab": {
          "base_uri": "https://localhost:8080/",
          "height": 282
        },
        "id": "BAGzHZ_XODbc",
        "outputId": "d7586bca-a37f-4a2f-a802-0b1dfd6e9e38"
      },
      "source": [
        "# Plotting model performance\n",
        "\n",
        "plt.plot(clf.history['loss'], label='loss')\n",
        "plt.plot(clf.history['val_loss'], label='val_loss')\n",
        "plt.legend()"
      ],
      "execution_count": 39,
      "outputs": [
        {
          "output_type": "execute_result",
          "data": {
            "text/plain": [
              "<matplotlib.legend.Legend at 0x7f7fba5a4c10>"
            ]
          },
          "metadata": {
            "tags": []
          },
          "execution_count": 39
        },
        {
          "output_type": "display_data",
          "data": {
            "image/png": "[encoded data removed]",
            "text/plain": [
              "<Figure size 432x288 with 1 Axes>"
            ]
          },
          "metadata": {
            "tags": [],
            "needs_background": "light"
          }
        }
      ]
    },
    {
      "cell_type": "code",
      "metadata": {
        "colab": {
          "base_uri": "https://localhost:8080/",
          "height": 285
        },
        "id": "3y2ewb5JOnWh",
        "outputId": "c0e6dd51-243b-40c1-87f0-55fe2d20afdc"
      },
      "source": [
        "# Plotting model performance\n",
        "\n",
        "plt.plot(clf.history['accuracy'], label='accuracy')\n",
        "plt.plot(clf.history['val_accuracy'], label='val_accuracy')\n",
        "plt.legend()"
      ],
      "execution_count": 40,
      "outputs": [
        {
          "output_type": "execute_result",
          "data": {
            "text/plain": [
              "<matplotlib.legend.Legend at 0x7f7fba511ed0>"
            ]
          },
          "metadata": {
            "tags": []
          },
          "execution_count": 40
        },
        {
          "output_type": "display_data",
          "data": {
            "image/png": "[encoded data removed]",
            "text/plain": [
              "<Figure size 432x288 with 1 Axes>"
            ]
          },
          "metadata": {
            "tags": [],
            "needs_background": "light"
          }
        }
      ]
    },
    {
      "cell_type": "code",
      "metadata": {
        "colab": {
          "base_uri": "https://localhost:8080/"
        },
        "id": "7MFy6V1fh7rV",
        "outputId": "26be7e93-8a46-489d-a868-2f53348b6a6e"
      },
      "source": [
        "# Making a Prediction\n",
        "\n",
        "prediction = cmodel.predict(A_test)\n",
        "prediction"
      ],
      "execution_count": 41,
      "outputs": [
        {
          "output_type": "execute_result",
          "data": {
            "text/plain": [
              "array([[8.3704257e-01],\n",
              "       [9.9965262e-01],\n",
              "       [9.0219486e-01],\n",
              "       [8.0674312e-05],\n",
              "       [9.6568173e-01],\n",
              "       [9.9182546e-01],\n",
              "       [9.9225301e-01],\n",
              "       [8.0334306e-01],\n",
              "       [4.2815547e-02],\n",
              "       [9.9562269e-01],\n",
              "       [3.2530054e-02],\n",
              "       [9.8496282e-01],\n",
              "       [8.2509768e-01],\n",
              "       [2.5126401e-01],\n",
              "       [9.2380869e-01],\n",
              "       [8.7912297e-01],\n",
              "       [9.9186558e-01],\n",
              "       [9.1892129e-01],\n",
              "       [1.2890623e-02],\n",
              "       [3.2175265e-04],\n",
              "       [9.3242800e-01],\n",
              "       [9.9584454e-01],\n",
              "       [7.9193932e-01],\n",
              "       [9.8784190e-01],\n",
              "       [1.1550950e-02],\n",
              "       [9.8792505e-01],\n",
              "       [6.1385904e-04],\n",
              "       [5.0591243e-06],\n",
              "       [8.7412959e-01],\n",
              "       [1.0855414e-05],\n",
              "       [8.4240186e-01],\n",
              "       [8.2506919e-01],\n",
              "       [9.0046859e-01],\n",
              "       [1.0034315e-02],\n",
              "       [4.0387783e-02],\n",
              "       [6.1694539e-01],\n",
              "       [2.1106498e-02],\n",
              "       [1.8000884e-01],\n",
              "       [1.1411476e-03],\n",
              "       [9.8288465e-01],\n",
              "       [9.9903679e-01],\n",
              "       [3.4429745e-03],\n",
              "       [3.8254821e-05],\n",
              "       [1.5382320e-03],\n",
              "       [9.9732131e-01],\n",
              "       [9.9598771e-01],\n",
              "       [9.2091191e-01],\n",
              "       [7.0812369e-08],\n",
              "       [9.9112457e-01],\n",
              "       [9.6012378e-01],\n",
              "       [9.5963961e-01],\n",
              "       [1.0122552e-03],\n",
              "       [9.9776697e-01],\n",
              "       [9.4831407e-01],\n",
              "       [7.6582544e-03],\n",
              "       [1.2978709e-01],\n",
              "       [9.9531156e-01],\n",
              "       [9.4331813e-04],\n",
              "       [9.9910104e-01],\n",
              "       [9.9875014e-03],\n",
              "       [3.1974539e-02],\n",
              "       [9.9335021e-01],\n",
              "       [9.8779154e-01],\n",
              "       [1.1357249e-05],\n",
              "       [5.3454530e-01],\n",
              "       [9.9416685e-01],\n",
              "       [1.9662037e-02],\n",
              "       [9.8009539e-01],\n",
              "       [1.1554197e-03],\n",
              "       [1.0591226e-02],\n",
              "       [9.9466974e-01],\n",
              "       [9.9430817e-01],\n",
              "       [9.2453617e-01],\n",
              "       [2.0220128e-01],\n",
              "       [7.5730652e-01],\n",
              "       [9.3956351e-01],\n",
              "       [9.9036926e-01],\n",
              "       [9.9813217e-01],\n",
              "       [2.8251546e-02],\n",
              "       [9.6128696e-01],\n",
              "       [8.8595093e-04],\n",
              "       [8.6954939e-01],\n",
              "       [7.8966236e-01],\n",
              "       [5.2982634e-01],\n",
              "       [9.4472510e-01],\n",
              "       [9.5735806e-01],\n",
              "       [3.5003692e-04],\n",
              "       [9.8819494e-01],\n",
              "       [9.6371686e-01],\n",
              "       [5.0802308e-04],\n",
              "       [9.9645221e-01],\n",
              "       [9.9967158e-01],\n",
              "       [9.1309971e-01],\n",
              "       [9.0047169e-01],\n",
              "       [4.7591224e-01],\n",
              "       [9.8479372e-01],\n",
              "       [9.9937040e-01],\n",
              "       [1.5155354e-07],\n",
              "       [6.5602219e-01],\n",
              "       [9.8538339e-01],\n",
              "       [4.2470817e-02],\n",
              "       [4.5583349e-01],\n",
              "       [9.9916625e-01],\n",
              "       [9.9959666e-01],\n",
              "       [9.9851614e-01],\n",
              "       [9.6774232e-01],\n",
              "       [9.9644852e-01],\n",
              "       [9.9944800e-01],\n",
              "       [9.8837876e-01],\n",
              "       [9.9601197e-01],\n",
              "       [3.2921504e-02],\n",
              "       [3.0097472e-05],\n",
              "       [9.8143035e-01],\n",
              "       [5.9608934e-03]], dtype=float32)"
            ]
          },
          "metadata": {
            "tags": []
          },
          "execution_count": 41
        }
      ]
    },
    {
      "cell_type": "code",
      "metadata": {
        "colab": {
          "base_uri": "https://localhost:8080/"
        },
        "id": "RucoFVneiTdN",
        "outputId": "26a27d41-4a68-4509-c1f2-1aff0fef2198"
      },
      "source": [
        "# Rounding predicted values & evaluating model preformace\n",
        "\n",
        "ypred = np.round(prediction).flatten()\n",
        "print(f\"Classification Model Perfomance:\\nLoss: {cmodel.evaluate(A_test,b_test)[0]}\\nAccuracy: {round(cmodel.evaluate(A_test,b_test)[1]*100,2)}%\")"
      ],
      "execution_count": 42,
      "outputs": [
        {
          "output_type": "stream",
          "text": [
            "4/4 [==============================] - 0s 4ms/step - loss: 0.0852 - accuracy: 0.9737\n",
            "4/4 [==============================] - 0s 3ms/step - loss: 0.0852 - accuracy: 0.9737\n",
            "Classification Model Perfomance:\n",
            "Loss: 0.08524789661169052\n",
            "Accuracy: 97.37%\n"
          ],
          "name": "stdout"
        }
      ]
    },
    {
      "cell_type": "code",
      "metadata": {
        "id": "qdKsH7e7nI3E",
        "outputId": "ddef8481-2cc0-463d-e282-3bf4eb6f74d2",
        "colab": {
          "base_uri": "https://localhost:8080/",
          "height": 50
        }
      },
      "source": [
        "# Saving Model\n",
        "\n",
        "cmodel.save('LinearClassifier.h5')\n",
        "\n",
        "# Checking model loading\n",
        "\n",
        "model = tf.keras.models.load_model('LinearClassifier.h5')\n",
        "print(model.layers)\n",
        "model.evaluate(A_test, b_test)\n",
        "\n",
        "# Downloading Model\n",
        "\n",
        "from google.colab import files\n",
        "files.download('LinearClassifier.h5')"
      ],
      "execution_count": 44,
      "outputs": [
        {
          "output_type": "stream",
          "text": [
            "[<tensorflow.python.keras.layers.core.Dense object at 0x7f7fba469fd0>]\n",
            "4/4 [==============================] - 0s 4ms/step - loss: 0.0852 - accuracy: 0.9737\n"
          ],
          "name": "stdout"
        },
        {
          "output_type": "display_data",
          "data": {
            "application/javascript": [
              "\n",
              "    async function download(id, filename, size) {\n",
              "      if (!google.colab.kernel.accessAllowed) {\n",
              "        return;\n",
              "      }\n",
              "      const div = document.createElement('div');\n",
              "      const label = document.createElement('label');\n",
              "      label.textContent = `Downloading \"${filename}\": `;\n",
              "      div.appendChild(label);\n",
              "      const progress = document.createElement('progress');\n",
              "      progress.max = size;\n",
              "      div.appendChild(progress);\n",
              "      document.body.appendChild(div);\n",
              "\n",
              "      const buffers = [];\n",
              "      let downloaded = 0;\n",
              "\n",
              "      const channel = await google.colab.kernel.comms.open(id);\n",
              "      // Send a message to notify the kernel that we're ready.\n",
              "      channel.send({})\n",
              "\n",
              "      for await (const message of channel.messages) {\n",
              "        // Send a message to notify the kernel that we're ready.\n",
              "        channel.send({})\n",
              "        if (message.buffers) {\n",
              "          for (const buffer of message.buffers) {\n",
              "            buffers.push(buffer);\n",
              "            downloaded += buffer.byteLength;\n",
              "            progress.value = downloaded;\n",
              "          }\n",
              "        }\n",
              "      }\n",
              "      const blob = new Blob(buffers, {type: 'application/binary'});\n",
              "      const a = document.createElement('a');\n",
              "      a.href = window.URL.createObjectURL(blob);\n",
              "      a.download = filename;\n",
              "      div.appendChild(a);\n",
              "      a.click();\n",
              "      div.remove();\n",
              "    }\n",
              "  "
            ],
            "text/plain": [
              "<IPython.core.display.Javascript object>"
            ]
          },
          "metadata": {
            "tags": []
          }
        },
        {
          "output_type": "display_data",
          "data": {
            "application/javascript": [
              "download(\"download_0fea307a-ca51-4f98-9952-b51805124bb4\", \"LinearClassifier.h5\", 18488)"
            ],
            "text/plain": [
              "<IPython.core.display.Javascript object>"
            ]
          },
          "metadata": {
            "tags": []
          }
        }
      ]
    }
  ]
}
