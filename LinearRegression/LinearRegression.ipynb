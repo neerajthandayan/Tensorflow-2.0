{
  "nbformat": 4,
  "nbformat_minor": 0,
  "metadata": {
    "colab": {
      "name": "LinearRegression.ipynb",
      "provenance": [],
      "authorship_tag": "ABX9TyMSJfuWnvWB8uoKAwhU5qt9",
      "include_colab_link": true
    },
    "kernelspec": {
      "name": "python3",
      "display_name": "Python 3"
    },
    "language_info": {
      "name": "python"
    },
    "accelerator": "TPU"
  },
  "cells": [
    {
      "cell_type": "markdown",
      "metadata": {
        "id": "view-in-github",
        "colab_type": "text"
      },
      "source": [
        "<a href=\"https://colab.research.google.com/github/neerajthandayan/Tensorflow-2.0/blob/main/LinearRegression.ipynb\" target=\"_parent\"><img src=\"https://colab.research.google.com/assets/colab-badge.svg\" alt=\"Open In Colab\"/></a>"
      ]
    },
    {
      "cell_type": "code",
      "metadata": {
        "id": "w8R85AQIGrt1"
      },
      "source": [
        "# Importing Libraries\n",
        "\n",
        "import pandas as pd\n",
        "import numpy as np\n",
        "from sklearn.datasets import load_breast_cancer\n",
        "from sklearn.model_selection import train_test_split\n",
        "from sklearn.preprocessing import StandardScaler\n",
        "import tensorflow as tf\n",
        "import matplotlib.pyplot as plt"
      ],
      "execution_count": 1,
      "outputs": []
    },
    {
      "cell_type": "code",
      "metadata": {
        "colab": {
          "base_uri": "https://localhost:8080/"
        },
        "id": "Trvu87f8dVtR",
        "outputId": "2d424d72-aa60-443c-cfdc-b096faff4a6a"
      },
      "source": [
        "# Loading data\n",
        "\n",
        "!wget https://raw.githubusercontent.com/lazyprogrammer/machine_learning_examples/master/tf2.0/moore.csv"
      ],
      "execution_count": 2,
      "outputs": [
        {
          "output_type": "stream",
          "text": [
            "--2021-04-05 00:36:42--  https://raw.githubusercontent.com/lazyprogrammer/machine_learning_examples/master/tf2.0/moore.csv\n",
            "Resolving raw.githubusercontent.com (raw.githubusercontent.com)... 185.199.108.133, 185.199.109.133, 185.199.111.133, ...\n",
            "Connecting to raw.githubusercontent.com (raw.githubusercontent.com)|185.199.108.133|:443... connected.\n",
            "HTTP request sent, awaiting response... 200 OK\n",
            "Length: 2302 (2.2K) [text/plain]\n",
            "Saving to: ‘moore.csv’\n",
            "\n",
            "\rmoore.csv             0%[                    ]       0  --.-KB/s               \rmoore.csv           100%[===================>]   2.25K  --.-KB/s    in 0s      \n",
            "\n",
            "2021-04-05 00:36:43 (13.8 MB/s) - ‘moore.csv’ saved [2302/2302]\n",
            "\n"
          ],
          "name": "stdout"
        }
      ]
    },
    {
      "cell_type": "code",
      "metadata": {
        "id": "ueWl0-BedeNe"
      },
      "source": [
        "# Processing Data\n",
        "\n",
        "data = pd.read_csv('moore.csv', header=None).values\n",
        "X = data[:,0].reshape(-1,1)\n",
        "y = data[:,1]"
      ],
      "execution_count": 22,
      "outputs": []
    },
    {
      "cell_type": "code",
      "metadata": {
        "colab": {
          "base_uri": "https://localhost:8080/",
          "height": 293
        },
        "id": "mu86rCW0eibd",
        "outputId": "90c27a11-73fa-462e-ba6d-7cd855f2cd7e"
      },
      "source": [
        "# Plotting data\n",
        "\n",
        "plt.scatter(X,y)"
      ],
      "execution_count": 23,
      "outputs": [
        {
          "output_type": "execute_result",
          "data": {
            "text/plain": [
              "<matplotlib.collections.PathCollection at 0x7f999438c690>"
            ]
          },
          "metadata": {
            "tags": []
          },
          "execution_count": 23
        },
        {
          "output_type": "display_data",
          "data": {
            "image/png": "[encoded data removed]",
            "text/plain": [
              "<Figure size 432x288 with 1 Axes>"
            ]
          },
          "metadata": {
            "tags": [],
            "needs_background": "light"
          }
        }
      ]
    },
    {
      "cell_type": "code",
      "metadata": {
        "colab": {
          "base_uri": "https://localhost:8080/",
          "height": 282
        },
        "id": "Yduy4rUHen3B",
        "outputId": "78a05d62-c241-4d7f-9a43-0ca7cb4c421c"
      },
      "source": [
        "# Plotting scaled (x) and log(y) data\n",
        "\n",
        "X = X - X.mean()\n",
        "Y = np.log(y)\n",
        "\n",
        "plt.scatter(X,Y)"
      ],
      "execution_count": 27,
      "outputs": [
        {
          "output_type": "execute_result",
          "data": {
            "text/plain": [
              "<matplotlib.collections.PathCollection at 0x7f9993bc0450>"
            ]
          },
          "metadata": {
            "tags": []
          },
          "execution_count": 27
        },
        {
          "output_type": "display_data",
          "data": {
            "image/png": "[encoded data removed]",
            "text/plain": [
              "<Figure size 432x288 with 1 Axes>"
            ]
          },
          "metadata": {
            "tags": [],
            "needs_background": "light"
          }
        }
      ]
    },
    {
      "cell_type": "code",
      "metadata": {
        "colab": {
          "base_uri": "https://localhost:8080/"
        },
        "id": "I8hm6Y3FfT-k",
        "outputId": "6ba0c9ee-de6f-4772-9200-58c077b838ac"
      },
      "source": [
        "# Constructing Model\n",
        "\n",
        "rmodel = tf.keras.models.Sequential()\n",
        "\n",
        "rmodel.add(tf.keras.layers.Dense(1, input_shape=(1,)))\n",
        "\n",
        "rmodel.compile(optimizer=tf.keras.optimizers.SGD(0.001, 0.9), loss='mse')\n",
        "\n",
        "# learning rate schduler\n",
        "def schedule(epoch, lr):\n",
        "  if epoch>=50:\n",
        "    return 0.0001\n",
        "  return 0.001\n",
        "\n",
        "scheduler = tf.keras.callbacks.LearningRateScheduler(schedule)\n",
        "\n",
        "# Train the model\n",
        "reg = rmodel.fit(X, Y, epochs=200, callbacks=[scheduler])"
      ],
      "execution_count": 31,
      "outputs": [
        {
          "output_type": "stream",
          "text": [
            "Epoch 1/200\n",
            "6/6 [==============================] - 1s 2ms/step - loss: 646.0745\n",
            "Epoch 2/200\n",
            "6/6 [==============================] - 0s 2ms/step - loss: 377.0082\n",
            "Epoch 3/200\n",
            "6/6 [==============================] - 0s 2ms/step - loss: 328.5690\n",
            "Epoch 4/200\n",
            "6/6 [==============================] - 0s 2ms/step - loss: 238.2697\n",
            "Epoch 5/200\n",
            "6/6 [==============================] - 0s 2ms/step - loss: 272.1168\n",
            "Epoch 6/200\n",
            "6/6 [==============================] - 0s 3ms/step - loss: 135.4468\n",
            "Epoch 7/200\n",
            "6/6 [==============================] - 0s 4ms/step - loss: 106.2365\n",
            "Epoch 8/200\n",
            "6/6 [==============================] - 0s 2ms/step - loss: 110.9332\n",
            "Epoch 9/200\n",
            "6/6 [==============================] - 0s 2ms/step - loss: 85.0326\n",
            "Epoch 10/200\n",
            "6/6 [==============================] - 0s 2ms/step - loss: 57.7464\n",
            "Epoch 11/200\n",
            "6/6 [==============================] - 0s 2ms/step - loss: 36.2577\n",
            "Epoch 12/200\n",
            "6/6 [==============================] - 0s 2ms/step - loss: 23.2355\n",
            "Epoch 13/200\n",
            "6/6 [==============================] - 0s 2ms/step - loss: 16.1025\n",
            "Epoch 14/200\n",
            "6/6 [==============================] - 0s 3ms/step - loss: 14.0676\n",
            "Epoch 15/200\n",
            "6/6 [==============================] - 0s 3ms/step - loss: 9.7222\n",
            "Epoch 16/200\n",
            "6/6 [==============================] - 0s 3ms/step - loss: 11.4980\n",
            "Epoch 17/200\n",
            "6/6 [==============================] - 0s 2ms/step - loss: 4.5570\n",
            "Epoch 18/200\n",
            "6/6 [==============================] - 0s 3ms/step - loss: 4.0297\n",
            "Epoch 19/200\n",
            "6/6 [==============================] - 0s 2ms/step - loss: 2.5430\n",
            "Epoch 20/200\n",
            "6/6 [==============================] - 0s 2ms/step - loss: 1.9735\n",
            "Epoch 21/200\n",
            "6/6 [==============================] - 0s 3ms/step - loss: 1.6238\n",
            "Epoch 22/200\n",
            "6/6 [==============================] - 0s 3ms/step - loss: 1.5270\n",
            "Epoch 23/200\n",
            "6/6 [==============================] - 0s 2ms/step - loss: 1.8743\n",
            "Epoch 24/200\n",
            "6/6 [==============================] - 0s 2ms/step - loss: 1.1343\n",
            "Epoch 25/200\n",
            "6/6 [==============================] - 0s 3ms/step - loss: 1.2497\n",
            "Epoch 26/200\n",
            "6/6 [==============================] - 0s 2ms/step - loss: 1.0958\n",
            "Epoch 27/200\n",
            "6/6 [==============================] - 0s 2ms/step - loss: 1.1154\n",
            "Epoch 28/200\n",
            "6/6 [==============================] - 0s 3ms/step - loss: 1.1908\n",
            "Epoch 29/200\n",
            "6/6 [==============================] - 0s 2ms/step - loss: 1.1783\n",
            "Epoch 30/200\n",
            "6/6 [==============================] - 0s 2ms/step - loss: 0.8356\n",
            "Epoch 31/200\n",
            "6/6 [==============================] - 0s 2ms/step - loss: 0.9290\n",
            "Epoch 32/200\n",
            "6/6 [==============================] - 0s 2ms/step - loss: 0.9484\n",
            "Epoch 33/200\n",
            "6/6 [==============================] - 0s 2ms/step - loss: 0.9942\n",
            "Epoch 34/200\n",
            "6/6 [==============================] - 0s 2ms/step - loss: 0.8925\n",
            "Epoch 35/200\n",
            "6/6 [==============================] - 0s 2ms/step - loss: 1.2572\n",
            "Epoch 36/200\n",
            "6/6 [==============================] - 0s 2ms/step - loss: 0.8778\n",
            "Epoch 37/200\n",
            "6/6 [==============================] - 0s 2ms/step - loss: 0.9229\n",
            "Epoch 38/200\n",
            "6/6 [==============================] - 0s 2ms/step - loss: 1.0795\n",
            "Epoch 39/200\n",
            "6/6 [==============================] - 0s 2ms/step - loss: 0.8957\n",
            "Epoch 40/200\n",
            "6/6 [==============================] - 0s 2ms/step - loss: 0.8968\n",
            "Epoch 41/200\n",
            "6/6 [==============================] - 0s 3ms/step - loss: 0.7236\n",
            "Epoch 42/200\n",
            "6/6 [==============================] - 0s 3ms/step - loss: 0.8266\n",
            "Epoch 43/200\n",
            "6/6 [==============================] - 0s 4ms/step - loss: 0.9695\n",
            "Epoch 44/200\n",
            "6/6 [==============================] - 0s 3ms/step - loss: 0.9953\n",
            "Epoch 45/200\n",
            "6/6 [==============================] - 0s 2ms/step - loss: 0.9389\n",
            "Epoch 46/200\n",
            "6/6 [==============================] - 0s 3ms/step - loss: 0.9256\n",
            "Epoch 47/200\n",
            "6/6 [==============================] - 0s 2ms/step - loss: 0.9479\n",
            "Epoch 48/200\n",
            "6/6 [==============================] - 0s 3ms/step - loss: 1.1316\n",
            "Epoch 49/200\n",
            "6/6 [==============================] - 0s 3ms/step - loss: 0.8666\n",
            "Epoch 50/200\n",
            "6/6 [==============================] - 0s 2ms/step - loss: 0.8607\n",
            "Epoch 51/200\n",
            "6/6 [==============================] - 0s 2ms/step - loss: 0.9427\n",
            "Epoch 52/200\n",
            "6/6 [==============================] - 0s 2ms/step - loss: 0.7301\n",
            "Epoch 53/200\n",
            "6/6 [==============================] - 0s 2ms/step - loss: 1.0984\n",
            "Epoch 54/200\n",
            "6/6 [==============================] - 0s 2ms/step - loss: 0.9755\n",
            "Epoch 55/200\n",
            "6/6 [==============================] - 0s 2ms/step - loss: 0.8324\n",
            "Epoch 56/200\n",
            "6/6 [==============================] - 0s 2ms/step - loss: 0.9135\n",
            "Epoch 57/200\n",
            "6/6 [==============================] - 0s 2ms/step - loss: 1.0620\n",
            "Epoch 58/200\n",
            "6/6 [==============================] - 0s 2ms/step - loss: 0.8372\n",
            "Epoch 59/200\n",
            "6/6 [==============================] - 0s 2ms/step - loss: 0.7594\n",
            "Epoch 60/200\n",
            "6/6 [==============================] - 0s 2ms/step - loss: 0.9342\n",
            "Epoch 61/200\n",
            "6/6 [==============================] - 0s 2ms/step - loss: 0.8035\n",
            "Epoch 62/200\n",
            "6/6 [==============================] - 0s 2ms/step - loss: 0.7363\n",
            "Epoch 63/200\n",
            "6/6 [==============================] - 0s 2ms/step - loss: 0.7508\n",
            "Epoch 64/200\n",
            "6/6 [==============================] - 0s 2ms/step - loss: 0.8965\n",
            "Epoch 65/200\n",
            "6/6 [==============================] - 0s 2ms/step - loss: 0.7686\n",
            "Epoch 66/200\n",
            "6/6 [==============================] - 0s 2ms/step - loss: 0.7684\n",
            "Epoch 67/200\n",
            "6/6 [==============================] - 0s 2ms/step - loss: 1.0622\n",
            "Epoch 68/200\n",
            "6/6 [==============================] - 0s 2ms/step - loss: 0.7260\n",
            "Epoch 69/200\n",
            "6/6 [==============================] - 0s 2ms/step - loss: 0.8869\n",
            "Epoch 70/200\n",
            "6/6 [==============================] - 0s 2ms/step - loss: 0.7260\n",
            "Epoch 71/200\n",
            "6/6 [==============================] - 0s 2ms/step - loss: 0.7790\n",
            "Epoch 72/200\n",
            "6/6 [==============================] - 0s 3ms/step - loss: 0.8155\n",
            "Epoch 73/200\n",
            "6/6 [==============================] - 0s 3ms/step - loss: 1.1057\n",
            "Epoch 74/200\n",
            "6/6 [==============================] - 0s 3ms/step - loss: 0.7130\n",
            "Epoch 75/200\n",
            "6/6 [==============================] - 0s 2ms/step - loss: 0.8373\n",
            "Epoch 76/200\n",
            "6/6 [==============================] - 0s 3ms/step - loss: 0.9784\n",
            "Epoch 77/200\n",
            "6/6 [==============================] - 0s 3ms/step - loss: 0.6432\n",
            "Epoch 78/200\n",
            "6/6 [==============================] - 0s 3ms/step - loss: 0.8731\n",
            "Epoch 79/200\n",
            "6/6 [==============================] - 0s 4ms/step - loss: 0.8977\n",
            "Epoch 80/200\n",
            "6/6 [==============================] - 0s 3ms/step - loss: 1.1674\n",
            "Epoch 81/200\n",
            "6/6 [==============================] - 0s 3ms/step - loss: 0.9213\n",
            "Epoch 82/200\n",
            "6/6 [==============================] - 0s 2ms/step - loss: 0.8436\n",
            "Epoch 83/200\n",
            "6/6 [==============================] - 0s 4ms/step - loss: 0.9745\n",
            "Epoch 84/200\n",
            "6/6 [==============================] - 0s 2ms/step - loss: 0.8983\n",
            "Epoch 85/200\n",
            "6/6 [==============================] - 0s 3ms/step - loss: 0.6887\n",
            "Epoch 86/200\n",
            "6/6 [==============================] - 0s 3ms/step - loss: 0.9601\n",
            "Epoch 87/200\n",
            "6/6 [==============================] - 0s 2ms/step - loss: 0.8037\n",
            "Epoch 88/200\n",
            "6/6 [==============================] - 0s 2ms/step - loss: 1.0463\n",
            "Epoch 89/200\n",
            "6/6 [==============================] - 0s 2ms/step - loss: 0.9971\n",
            "Epoch 90/200\n",
            "6/6 [==============================] - 0s 2ms/step - loss: 0.8838\n",
            "Epoch 91/200\n",
            "6/6 [==============================] - 0s 3ms/step - loss: 0.7656\n",
            "Epoch 92/200\n",
            "6/6 [==============================] - 0s 2ms/step - loss: 0.7843\n",
            "Epoch 93/200\n",
            "6/6 [==============================] - 0s 2ms/step - loss: 0.9553\n",
            "Epoch 94/200\n",
            "6/6 [==============================] - 0s 2ms/step - loss: 0.9408\n",
            "Epoch 95/200\n",
            "6/6 [==============================] - 0s 3ms/step - loss: 0.8188\n",
            "Epoch 96/200\n",
            "6/6 [==============================] - 0s 3ms/step - loss: 0.9072\n",
            "Epoch 97/200\n",
            "6/6 [==============================] - 0s 3ms/step - loss: 0.7847\n",
            "Epoch 98/200\n",
            "6/6 [==============================] - 0s 2ms/step - loss: 0.8491\n",
            "Epoch 99/200\n",
            "6/6 [==============================] - 0s 3ms/step - loss: 0.8556\n",
            "Epoch 100/200\n",
            "6/6 [==============================] - 0s 2ms/step - loss: 0.8557\n",
            "Epoch 101/200\n",
            "6/6 [==============================] - 0s 2ms/step - loss: 0.7827\n",
            "Epoch 102/200\n",
            "6/6 [==============================] - 0s 2ms/step - loss: 0.8121\n",
            "Epoch 103/200\n",
            "6/6 [==============================] - 0s 2ms/step - loss: 0.7508\n",
            "Epoch 104/200\n",
            "6/6 [==============================] - 0s 4ms/step - loss: 0.7417\n",
            "Epoch 105/200\n",
            "6/6 [==============================] - 0s 3ms/step - loss: 0.8109\n",
            "Epoch 106/200\n",
            "6/6 [==============================] - 0s 3ms/step - loss: 0.7278\n",
            "Epoch 107/200\n",
            "6/6 [==============================] - 0s 3ms/step - loss: 0.8857\n",
            "Epoch 108/200\n",
            "6/6 [==============================] - 0s 3ms/step - loss: 0.9501\n",
            "Epoch 109/200\n",
            "6/6 [==============================] - 0s 3ms/step - loss: 0.7311\n",
            "Epoch 110/200\n",
            "6/6 [==============================] - 0s 3ms/step - loss: 1.0177\n",
            "Epoch 111/200\n",
            "6/6 [==============================] - 0s 2ms/step - loss: 0.8020\n",
            "Epoch 112/200\n",
            "6/6 [==============================] - 0s 3ms/step - loss: 0.9025\n",
            "Epoch 113/200\n",
            "6/6 [==============================] - 0s 3ms/step - loss: 1.0878\n",
            "Epoch 114/200\n",
            "6/6 [==============================] - 0s 3ms/step - loss: 0.8294\n",
            "Epoch 115/200\n",
            "6/6 [==============================] - 0s 2ms/step - loss: 1.1731\n",
            "Epoch 116/200\n",
            "6/6 [==============================] - 0s 3ms/step - loss: 0.8299\n",
            "Epoch 117/200\n",
            "6/6 [==============================] - 0s 3ms/step - loss: 0.9678\n",
            "Epoch 118/200\n",
            "6/6 [==============================] - 0s 3ms/step - loss: 0.8757\n",
            "Epoch 119/200\n",
            "6/6 [==============================] - 0s 3ms/step - loss: 0.8341\n",
            "Epoch 120/200\n",
            "6/6 [==============================] - 0s 3ms/step - loss: 0.8497\n",
            "Epoch 121/200\n",
            "6/6 [==============================] - 0s 4ms/step - loss: 0.8967\n",
            "Epoch 122/200\n",
            "6/6 [==============================] - 0s 3ms/step - loss: 1.0284\n",
            "Epoch 123/200\n",
            "6/6 [==============================] - 0s 2ms/step - loss: 1.0963\n",
            "Epoch 124/200\n",
            "6/6 [==============================] - 0s 3ms/step - loss: 0.8451\n",
            "Epoch 125/200\n",
            "6/6 [==============================] - 0s 3ms/step - loss: 0.7576\n",
            "Epoch 126/200\n",
            "6/6 [==============================] - 0s 3ms/step - loss: 0.9440\n",
            "Epoch 127/200\n",
            "6/6 [==============================] - 0s 3ms/step - loss: 0.8564\n",
            "Epoch 128/200\n",
            "6/6 [==============================] - 0s 3ms/step - loss: 0.8100\n",
            "Epoch 129/200\n",
            "6/6 [==============================] - 0s 2ms/step - loss: 0.7941\n",
            "Epoch 130/200\n",
            "6/6 [==============================] - 0s 3ms/step - loss: 0.7489\n",
            "Epoch 131/200\n",
            "6/6 [==============================] - 0s 3ms/step - loss: 0.8485\n",
            "Epoch 132/200\n",
            "6/6 [==============================] - 0s 4ms/step - loss: 0.7997\n",
            "Epoch 133/200\n",
            "6/6 [==============================] - 0s 2ms/step - loss: 1.0863\n",
            "Epoch 134/200\n",
            "6/6 [==============================] - 0s 2ms/step - loss: 0.8454\n",
            "Epoch 135/200\n",
            "6/6 [==============================] - 0s 3ms/step - loss: 0.8791\n",
            "Epoch 136/200\n",
            "6/6 [==============================] - 0s 5ms/step - loss: 0.8126\n",
            "Epoch 137/200\n",
            "6/6 [==============================] - 0s 2ms/step - loss: 0.9308\n",
            "Epoch 138/200\n",
            "6/6 [==============================] - 0s 2ms/step - loss: 0.7705\n",
            "Epoch 139/200\n",
            "6/6 [==============================] - 0s 3ms/step - loss: 0.9997\n",
            "Epoch 140/200\n",
            "6/6 [==============================] - 0s 2ms/step - loss: 0.7469\n",
            "Epoch 141/200\n",
            "6/6 [==============================] - 0s 2ms/step - loss: 0.8850\n",
            "Epoch 142/200\n",
            "6/6 [==============================] - 0s 2ms/step - loss: 0.8325\n",
            "Epoch 143/200\n",
            "6/6 [==============================] - 0s 2ms/step - loss: 0.9453\n",
            "Epoch 144/200\n",
            "6/6 [==============================] - 0s 2ms/step - loss: 0.7660\n",
            "Epoch 145/200\n",
            "6/6 [==============================] - 0s 3ms/step - loss: 0.8513\n",
            "Epoch 146/200\n",
            "6/6 [==============================] - 0s 2ms/step - loss: 0.8358\n",
            "Epoch 147/200\n",
            "6/6 [==============================] - 0s 4ms/step - loss: 0.9734\n",
            "Epoch 148/200\n",
            "6/6 [==============================] - 0s 2ms/step - loss: 0.8334\n",
            "Epoch 149/200\n",
            "6/6 [==============================] - 0s 2ms/step - loss: 0.8475\n",
            "Epoch 150/200\n",
            "6/6 [==============================] - 0s 2ms/step - loss: 0.6783\n",
            "Epoch 151/200\n",
            "6/6 [==============================] - 0s 3ms/step - loss: 0.8474\n",
            "Epoch 152/200\n",
            "6/6 [==============================] - 0s 2ms/step - loss: 0.7226\n",
            "Epoch 153/200\n",
            "6/6 [==============================] - 0s 2ms/step - loss: 1.0261\n",
            "Epoch 154/200\n",
            "6/6 [==============================] - 0s 3ms/step - loss: 0.7134\n",
            "Epoch 155/200\n",
            "6/6 [==============================] - 0s 2ms/step - loss: 0.8305\n",
            "Epoch 156/200\n",
            "6/6 [==============================] - 0s 2ms/step - loss: 0.8489\n",
            "Epoch 157/200\n",
            "6/6 [==============================] - 0s 2ms/step - loss: 0.6585\n",
            "Epoch 158/200\n",
            "6/6 [==============================] - 0s 3ms/step - loss: 0.8850\n",
            "Epoch 159/200\n",
            "6/6 [==============================] - 0s 2ms/step - loss: 1.0612\n",
            "Epoch 160/200\n",
            "6/6 [==============================] - 0s 3ms/step - loss: 0.6831\n",
            "Epoch 161/200\n",
            "6/6 [==============================] - 0s 3ms/step - loss: 0.9304\n",
            "Epoch 162/200\n",
            "6/6 [==============================] - 0s 3ms/step - loss: 0.7789\n",
            "Epoch 163/200\n",
            "6/6 [==============================] - 0s 3ms/step - loss: 1.0886\n",
            "Epoch 164/200\n",
            "6/6 [==============================] - 0s 2ms/step - loss: 1.0741\n",
            "Epoch 165/200\n",
            "6/6 [==============================] - 0s 2ms/step - loss: 0.9163\n",
            "Epoch 166/200\n",
            "6/6 [==============================] - 0s 2ms/step - loss: 0.8530\n",
            "Epoch 167/200\n",
            "6/6 [==============================] - 0s 2ms/step - loss: 0.9920\n",
            "Epoch 168/200\n",
            "6/6 [==============================] - 0s 2ms/step - loss: 1.0093\n",
            "Epoch 169/200\n",
            "6/6 [==============================] - 0s 2ms/step - loss: 0.9448\n",
            "Epoch 170/200\n",
            "6/6 [==============================] - 0s 4ms/step - loss: 0.7928\n",
            "Epoch 171/200\n",
            "6/6 [==============================] - 0s 3ms/step - loss: 0.9054\n",
            "Epoch 172/200\n",
            "6/6 [==============================] - 0s 2ms/step - loss: 0.9827\n",
            "Epoch 173/200\n",
            "6/6 [==============================] - 0s 2ms/step - loss: 0.9005\n",
            "Epoch 174/200\n",
            "6/6 [==============================] - 0s 2ms/step - loss: 0.7683\n",
            "Epoch 175/200\n",
            "6/6 [==============================] - 0s 2ms/step - loss: 0.8517\n",
            "Epoch 176/200\n",
            "6/6 [==============================] - 0s 2ms/step - loss: 0.8690\n",
            "Epoch 177/200\n",
            "6/6 [==============================] - 0s 3ms/step - loss: 0.8290\n",
            "Epoch 178/200\n",
            "6/6 [==============================] - 0s 2ms/step - loss: 0.7829\n",
            "Epoch 179/200\n",
            "6/6 [==============================] - 0s 2ms/step - loss: 0.8406\n",
            "Epoch 180/200\n",
            "6/6 [==============================] - 0s 2ms/step - loss: 0.8725\n",
            "Epoch 181/200\n",
            "6/6 [==============================] - 0s 4ms/step - loss: 0.9094\n",
            "Epoch 182/200\n",
            "6/6 [==============================] - 0s 6ms/step - loss: 0.8051\n",
            "Epoch 183/200\n",
            "6/6 [==============================] - 0s 3ms/step - loss: 1.0026\n",
            "Epoch 184/200\n",
            "6/6 [==============================] - 0s 4ms/step - loss: 0.7922\n",
            "Epoch 185/200\n",
            "6/6 [==============================] - 0s 3ms/step - loss: 1.0579\n",
            "Epoch 186/200\n",
            "6/6 [==============================] - 0s 4ms/step - loss: 0.8308\n",
            "Epoch 187/200\n",
            "6/6 [==============================] - 0s 2ms/step - loss: 1.0024\n",
            "Epoch 188/200\n",
            "6/6 [==============================] - 0s 3ms/step - loss: 0.9520\n",
            "Epoch 189/200\n",
            "6/6 [==============================] - 0s 3ms/step - loss: 0.7557\n",
            "Epoch 190/200\n",
            "6/6 [==============================] - 0s 3ms/step - loss: 0.8343\n",
            "Epoch 191/200\n",
            "6/6 [==============================] - 0s 3ms/step - loss: 0.8346\n",
            "Epoch 192/200\n",
            "6/6 [==============================] - 0s 2ms/step - loss: 1.0908\n",
            "Epoch 193/200\n",
            "6/6 [==============================] - 0s 2ms/step - loss: 0.7868\n",
            "Epoch 194/200\n",
            "6/6 [==============================] - 0s 3ms/step - loss: 0.8265\n",
            "Epoch 195/200\n",
            "6/6 [==============================] - 0s 3ms/step - loss: 0.8803\n",
            "Epoch 196/200\n",
            "6/6 [==============================] - 0s 2ms/step - loss: 1.0836\n",
            "Epoch 197/200\n",
            "6/6 [==============================] - 0s 2ms/step - loss: 0.8964\n",
            "Epoch 198/200\n",
            "6/6 [==============================] - 0s 2ms/step - loss: 0.7897\n",
            "Epoch 199/200\n",
            "6/6 [==============================] - 0s 2ms/step - loss: 0.7715\n",
            "Epoch 200/200\n",
            "6/6 [==============================] - 0s 3ms/step - loss: 0.8256\n"
          ],
          "name": "stdout"
        }
      ]
    },
    {
      "cell_type": "code",
      "metadata": {
        "colab": {
          "base_uri": "https://localhost:8080/",
          "height": 282
        },
        "id": "kK5T5sTShMVs",
        "outputId": "c46e29a3-43e5-4fa8-8c5b-9e72207a63dd"
      },
      "source": [
        "# Plot the loss\n",
        "\n",
        "plt.plot(reg.history['loss'], label='loss')"
      ],
      "execution_count": 32,
      "outputs": [
        {
          "output_type": "execute_result",
          "data": {
            "text/plain": [
              "[<matplotlib.lines.Line2D at 0x7f998ee70d90>]"
            ]
          },
          "metadata": {
            "tags": []
          },
          "execution_count": 32
        },
        {
          "output_type": "display_data",
          "data": {
            "image/png": "[encoded data removed]",
            "text/plain": [
              "<Figure size 432x288 with 1 Axes>"
            ]
          },
          "metadata": {
            "tags": [],
            "needs_background": "light"
          }
        }
      ]
    },
    {
      "cell_type": "code",
      "metadata": {
        "colab": {
          "base_uri": "https://localhost:8080/"
        },
        "id": "K6bqPCfehdUT",
        "outputId": "f169351b-29cb-40dc-f66e-71d25925a53a"
      },
      "source": [
        "# Getting slope of the reg line\n",
        "\n",
        "print(rmodel.layers[0].get_weights())"
      ],
      "execution_count": 34,
      "outputs": [
        {
          "output_type": "stream",
          "text": [
            "[array([[0.35580584]], dtype=float32), array([17.757334], dtype=float32)]\n"
          ],
          "name": "stdout"
        }
      ]
    }
  ]
}
